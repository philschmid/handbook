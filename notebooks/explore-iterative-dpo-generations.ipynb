{
 "cells": [
  {
   "cell_type": "code",
   "execution_count": null,
   "metadata": {},
   "outputs": [],
   "source": [
    "from datasets import load_dataset\n",
    "\n",
    "ds = load_dataset(\"philschmid/testing\",split=\"train\")"
   ]
  },
  {
   "cell_type": "code",
   "execution_count": null,
   "metadata": {},
   "outputs": [],
   "source": [
    "def calculate_max_score_difference(example):\n",
    "    original_score = example['original']['score']\n",
    "    max_candidate_score = max(candidate['score'] for candidate in example['candidates'])\n",
    "    return max_candidate_score - original_score\n",
    "\n",
    "\n",
    "# Calculate score differences and sort examples\n",
    "examples_with_differences = [\n",
    "    (i, calculate_max_score_difference(example))\n",
    "    for i, example in enumerate(ds)\n",
    "]\n",
    "sorted_examples = sorted(examples_with_differences, key=lambda x: x[1], reverse=True)\n",
    "\n",
    "def print_scores(sample):\n",
    "  print(sample)\n",
    "  print(f\"original: {sample['original']['score']}\")\n",
    "  for c in sample['candidates']:\n",
    "    print(f\"response: {c['score']}\")\n",
    "    \n",
    "    \n",
    "print(sorted_examples[0:10])\n",
    "\n",
    "from random import randrange  \n",
    "\n",
    "x = randrange(len(ds))\n",
    "x = 1174\n",
    "\n",
    "print_scores(ds[x])"
   ]
  },
  {
   "cell_type": "code",
   "execution_count": null,
   "metadata": {},
   "outputs": [],
   "source": [
    "sorted_examples[0:10]"
   ]
  },
  {
   "cell_type": "code",
   "execution_count": null,
   "metadata": {},
   "outputs": [],
   "source": [
    "print(ds[x]['original'][\"messages\"][0][\"content\"])"
   ]
  },
  {
   "cell_type": "code",
   "execution_count": null,
   "metadata": {},
   "outputs": [],
   "source": [
    "print(ds[x]['original'][\"messages\"][1][\"content\"])"
   ]
  },
  {
   "cell_type": "code",
   "execution_count": null,
   "metadata": {},
   "outputs": [],
   "source": [
    "print(ds[x]['candidates'][0][\"messages\"][1][\"content\"])"
   ]
  }
 ],
 "metadata": {
  "language_info": {
   "name": "python"
  }
 },
 "nbformat": 4,
 "nbformat_minor": 2
}
