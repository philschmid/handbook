{
 "cells": [
  {
   "cell_type": "code",
   "execution_count": 105,
   "metadata": {},
   "outputs": [
    {
     "data": {
      "application/vnd.jupyter.widget-view+json": {
       "model_id": "b3f33966f8424876b5f38edd69a4c3ad",
       "version_major": 2,
       "version_minor": 0
      },
      "text/plain": [
       "Generating train split: 0 examples [00:00, ? examples/s]"
      ]
     },
     "metadata": {},
     "output_type": "display_data"
    }
   ],
   "source": [
    "from datasets import load_dataset\n",
    "import os \n",
    "import pandas as pd\n",
    "from IPython.display import display, HTML\n",
    "\n",
    "iteration=2\n",
    "file_=\"pairwise.json\"\n",
    "path=os.path.join(f\"/fsx/philipp/alignment-handbook/test/iterative_dpo_exp2/iteration_{iteration}\", file_)\n",
    "\n",
    "ds = load_dataset(\"json\", data_files=path, split=\"train\")\n",
    "\n",
    "def print_response_as_table(response):\n",
    "    chosen = response[\"chosen\"][-1][\"content\"]\n",
    "    rejected = response[\"rejected\"][-1][\"content\"]\n",
    "    chosen = chosen.replace(\"\\n\", \"<br>\")\n",
    "    rejected = rejected.replace(\"\\n\", \"<br>\")\n",
    "    prompt = response[\"chosen\"][0][\"content\"].replace(\"\\n\", \"<br>\")\n",
    "    \n",
    "    df = pd.DataFrame({\"Chosen\":[chosen], \"Rejected\":[rejected]}, columns=[\"Chosen\", \"Rejected\"])\n",
    "    # Convert the DataFrame to HTML with custom styles\n",
    "    html = df.to_html(escape=False,index=False)  # escape=False allows rendering of HTML tags\n",
    "    # Add custom CSS for text alignment and other styling\n",
    "    styles = \"\"\"\n",
    "    <style>\n",
    "        table {\n",
    "            width: 100%;\n",
    "        }\n",
    "        th, td {\n",
    "            width: 50%;\n",
    "            font-size: 16px;\n",
    "            text-align: left;\n",
    "            padding: 8px;\n",
    "            border-bottom: 1px solid #ddd;\n",
    "        }\n",
    "        td {\n",
    "            vertical-align: top;\n",
    "        }\n",
    "    </style>\n",
    "    \"\"\"\n",
    "    table_prompt=f'<table border=\"1\" class=\"dataframe\"><thead><tr><th>Prompt:</th></tr></thead><tbod><tr><td>{prompt}</td></tr></tbody></table>'\n",
    "    display(HTML(styles + table_prompt))\n",
    "    display(HTML(styles + html))"
   ]
  },
  {
   "cell_type": "code",
   "execution_count": 142,
   "metadata": {},
   "outputs": [
    {
     "data": {
      "text/html": [
       "\n",
       "    <style>\n",
       "        table {\n",
       "            width: 100%;\n",
       "        }\n",
       "        th, td {\n",
       "            width: 50%;\n",
       "            font-size: 16px;\n",
       "            text-align: left;\n",
       "            padding: 8px;\n",
       "            border-bottom: 1px solid #ddd;\n",
       "        }\n",
       "        td {\n",
       "            vertical-align: top;\n",
       "        }\n",
       "    </style>\n",
       "    <table border=\"1\" class=\"dataframe\"><thead><tr><th>Prompt:</th></tr></thead><tbod><tr><td>Here is a list of 5 mysterious creatures that undergo metamorphosis, along with their habitat, the duration of each stage, and the lifespan of the species:<br>{<br>  \"creatures\": [<br>    {<br>      \"name\": \"Mandrake\",<br>      \"habitat\": \"Europe and Asia\",<br>      \"duration_of_each_stage\": \"8-12 months\",<br>      \"average_lifespan\": \"30-40 years\"<br>    },<br>    {<br>      \"name\": \"Chrysalis\",<br>      \"habitat\": \"Worldwide\",<br>      \"duration_of_each_stage\": \"1-2 weeks\",<br>      \"average_lifespan\": \"2-4 weeks\"<br>    },<br>    {<br>      \"name\": \"Sea Angel\",<br>      \"habitat\": \"Deep sea\",<br>      \"duration_of_each_stage\": \"1-2 months\",<br>      \"average_lifespan\": \"1 year\"<br>    },<br>    {<br>      \"name\": \"Dragonfly\",<br>      \"habitat\": \"Worldwide\",<br>      \"duration_of_each_stage\": \"6 months - 3 years\",<br>      \"average_lifespan\": \"1-4 months\"<br>    },<br>    {<br>      \"name\": \"Ghost Crab\",<br>      \"habitat\": \"Coastal areas\",<br>      \"duration_of_each_stage\": \"1-2 months\",<br>      \"average_lifespan\": \"3-4 years\"<br>    }<br>  ]<br>}<br>Can you identify these creatures and provide additional information about their unique transformation process?</td></tr></tbody></table>"
      ],
      "text/plain": [
       "<IPython.core.display.HTML object>"
      ]
     },
     "metadata": {},
     "output_type": "display_data"
    },
    {
     "data": {
      "text/html": [
       "\n",
       "    <style>\n",
       "        table {\n",
       "            width: 100%;\n",
       "        }\n",
       "        th, td {\n",
       "            width: 50%;\n",
       "            font-size: 16px;\n",
       "            text-align: left;\n",
       "            padding: 8px;\n",
       "            border-bottom: 1px solid #ddd;\n",
       "        }\n",
       "        td {\n",
       "            vertical-align: top;\n",
       "        }\n",
       "    </style>\n",
       "    <table border=\"1\" class=\"dataframe\">\n",
       "  <thead>\n",
       "    <tr style=\"text-align: right;\">\n",
       "      <th>Chosen</th>\n",
       "      <th>Rejected</th>\n",
       "    </tr>\n",
       "  </thead>\n",
       "  <tbody>\n",
       "    <tr>\n",
       "      <td>Sure, I'd be happy to help! Here's some additional information about each of these fascinating creatures:<br><br>1. Mandrake (Mandragora officinarum): The mandrake is a perennial herb found in Europe and Asia, known for its supposed poisonous properties and use in traditional medicine. It undergoes a type of metamorphosis known as apomixis, which allows it to reproduce either through seeds or by producing new plants from the roots of existing plants. However, apomixis is considered an adaptation rather than an actual metamorphosis, as it does not involve a significant change in form or physiology.<br><br>Apomixis works by allowing the plant to develop embryos directly from the plant's meristems, without requiring fertilization by pollen. This process allows for the production of genetically identical offspring, which can be beneficial for species survival and adaptation. <br><br>Getting from one stage to the next in the plant's life cycle can take anywhere from 8 to 12 months, depending on temperature, soil conditions, and other environmental factors. The average lifespan of mandrakes in the wild is thought to be around 30 to 40 years, with some plants living even longer.<br><br>2. Chrysalis (Butterfly or Moth): Larvae of butterflies or moths undergo a complete metamorphosis, transforming from a worm-like caterpillar into a winged adult. The caterpillar goes through a series of molts, shedding its skin several times until it reaches its maximum size. Eventually, it attaches itself to a surface and spins a chrysalis, or pupa, within which it will undergo metamorphosis.<br><br>The duration of each stage varies greatly depending on the species, but the pupal stage typically lasts from 1 to 2 weeks. After pupation, the butterfly or moth's body undergoes dramatic changes, including the formation and growth of wings, the development of sensory organs and muscles, and the remodeling of its internal organs. The adult emerges from the chrysalis and typically lives for only 2-4 weeks, with some surviving longer.<br><br>3. Sea Angel (Aeginopsis squamata): While sea angels are not actually true insects, they share physical characteristics similar to crustaceans and undergo a metamorphosis of sorts. Sea angels are deep-sea crustaceans that live on the ocean floor and can grow up to 14 inches in length. They have flattened bodies, a pair of flaring antennae, and a mouth that can grasp prey.<br><br>Their lifecycle begins as a small, sexually reproducing juvenile called a \"nemerte\" larva, which floats in the ocean currents for up to a year. Eventually, it will settle on a patch of coral or other surface, where it will molt several times and undergo a metamorphosis involving changes in its behavior, instincts, and physical characteristics. The adult sea angel develops a more streamlined body shape, loses its antennae, and gains specialized organs for filtering plankton from the water. These adaptations allow it to thrive in the nutrient-poor, low-turbulence environment of the deep sea, where it can live for up to a year.<br><br>4. Dragonfly (Order Odonata): Dragonflies are insects found worldwide, well-known for their striking appearance and complex flight. They undergo complete metamorphosis, going through a larval stage that can last anywhere from 6 months to 3 years, depending on the species. During this time, the larvae are aquatic predators with elongated, segmented bodies and large, compound eyes.<br><br>Their metamorphosis involves the shedding of their exoskeletons, followed by a dramatic transformation of their wings, legs, and other structures. The adult emerges with two pairs of wings that are folded and compressed, along with a pair of large compound eyes, three pairs of legs, and a long, slender body. The lifespan of a dragonfly is relatively short, ranging from just a few months to a year, depending on the species and environmental conditions.<br><br>5. Ghost Crab (Ocypode quadrata): Ghost crabs are found in coastal areas worldwide, known for their pale coloration, small size, and semi-buried lifestyle. They hatch from their eggs as small, active, and fully-formed juveniles and undergo a relatively rapid metamorphosis, reaching maturity within 1-2 months. During this time, the juvenile crab grows rapidly, shedding its exoskeleton several times, and developing its adult body shape, legs, and appendages.<br><br>The ghost crab's lifespan varies somewhat depending on the species, but they generally live for about 3-4 years. Their diet consists mainly of small invertebrates, and they are active both during the day and at night, using their camouflage capabilities to avoid detection.<br><br>Note: This information is based on research and is subject to change depending on new discoveries, advances in science, and other factors.</td>\n",
       "      <td>Sure! Here are the details you've requested about each of the creatures:<br><br>1. **Mandrake** - although it's a fictional creature, it's often depicted in literature as undergoing a transformation process before becoming mature. The term \"mandrake\" originally referred to a plant with medicinal properties, but in folklore, it was the root of the plant that was said to resemble a humanoid figure, hence the name.<br>   - As for the transformation process, it's based on the Greek myth of \"Circe\" and the Odyssey in which King Mander, who discovered the healing properties of the plant, was transformed into a root rather than a complete creature.<br><br>2. **Chrysalis** - This is a broad term that can refer to many insects, such as butterflies, moths, and beetles, that undergo a metamorphosis from larvae (caterpillars, maggots, etc.) to adults. <br>   - During the chrysalis stage, also known as the pupa, the insect's body completely changes as it transforms into a new form, often resulting in wings, antennae, and other adult features. These transformations can take anywhere from a few days to several weeks. However, unlike the average lifespan of 2-4 weeks, the lifespan of a complete chrysalis-transformed insect can last from a few months (moths) to several years (butterflies).<br><br>3. **Sea Angel** - This is a fictional creature, often depicted as a jellyfish-like organism in science fiction and fantasy worlds. It's not a real animal; however, some species of deep-sea creatures, such as **anglerfish** and **comb jellies**, do have unique adaptations that allow them to camouflage themselves and even mimic toxic organisms to deter predators.<br>   - Unlike actual marine animals, \"sea angel\" doesn't undergo metamorphosis but has a single stage of development, usually lasting 1-2 months, where it grows and matures. Some anglerfish species can live for several years, but this fictional creature's lifespan is typically estimated at only 1 year.<br><br>4. **Dragonfly** - This insect belongs to the order Odonata, which undergoes complete metamorphosis from a nymph (aquatic larva) to an adult with wings. <br>   - During the nymph stage, dragonfly larvae live in the water and develop their wings and other adult features. The transformation typically occurs in a slow and gradual process, taking anywhere from 6 months to several years, depending on the species. The adult dragonfly usually lives for only 1-4 months, during which it mates, feeds, and metamorphoses into an egg-laying stage.<br><br>5. **Ghost Crab** - Also known as \"Sand Crab,\" this is a real-life creature found in coastal habitats worldwide, belonging to the family Gecarcinidae. It's not a true crab but rather a type of crustacean, more closely related to lobsters than crabs. <br>   - Ghost crabs undergo a relatively quick metamorphosis from the juvenile or \"ghost stalker\" stage to their final, adult stage. The transformation usually occurs in about 1-2 months, although some species may take up to six months. Once mature, they can live for up to four years, typically spending most of their time in burrows in intertidal zones or sandy areas. <br><br>I hope this helps clarify the nature of the creatures mentioned, their metamorphosis processes, and their approximate lifespans!</td>\n",
       "    </tr>\n",
       "  </tbody>\n",
       "</table>"
      ],
      "text/plain": [
       "<IPython.core.display.HTML object>"
      ]
     },
     "metadata": {},
     "output_type": "display_data"
    }
   ],
   "source": [
    "from random import randrange\n",
    "\n",
    "rand_idx = randrange(len(ds))\n",
    "print_response_as_table(ds[rand_idx])"
   ]
  },
  {
   "cell_type": "code",
   "execution_count": 20,
   "metadata": {},
   "outputs": [
    {
     "name": "stderr",
     "output_type": "stream",
     "text": [
      " 67%|██████▋   | 17675/26491 [00:02<00:01, 6252.23it/s] "
     ]
    },
    {
     "name": "stdout",
     "output_type": "stream",
     "text": [
      "Found prompt at index 17675\n"
     ]
    },
    {
     "name": "stderr",
     "output_type": "stream",
     "text": [
      "\n"
     ]
    }
   ],
   "source": [
    "from tqdm import tqdm\n",
    "\n",
    "def find_prompt(prompt,ds):\n",
    "  # iterate over the dataset and find the prompt\n",
    "  for i in tqdm(range(len(ds))):\n",
    "    if prompt.lower() in ds[i][\"chosen\"][0][\"content\"].lower():\n",
    "      print(f\"Found prompt at index {i}\")\n",
    "      return i\n",
    "    \n",
    "i = find_prompt(\"are many CDs in the store.\",ds)\n",
    "print_response_as_table(ds[i])"
   ]
  },
  {
   "cell_type": "code",
   "execution_count": 22,
   "metadata": {},
   "outputs": [
    {
     "data": {
      "text/html": [
       "\n",
       "    <style>\n",
       "        table {\n",
       "            width: 100%;\n",
       "        }\n",
       "        th, td {\n",
       "            width: 50%;\n",
       "            font-size: 16px;\n",
       "            text-align: left;\n",
       "            padding: 8px;\n",
       "            border-bottom: 1px solid #ddd;\n",
       "        }\n",
       "        td {\n",
       "            vertical-align: top;\n",
       "        }\n",
       "    </style>\n",
       "    <table border=\"1\" class=\"dataframe\"><thead><tr><th>Prompt:</th></tr></thead><tbod><tr><td>Question: There are many CDs in the store. The rock and roll CDs are $5 each, the pop CDs are $10 each, the dance CDs are $3 each, and the country CDs are $7 each. Julia wants to buy 4 of each, but she only has 75 dollars. How much money is she short? Think carefully first, then make a decision:</td></tr></tbody></table>"
      ],
      "text/plain": [
       "<IPython.core.display.HTML object>"
      ]
     },
     "metadata": {},
     "output_type": "display_data"
    },
    {
     "data": {
      "text/html": [
       "\n",
       "    <style>\n",
       "        table {\n",
       "            width: 100%;\n",
       "        }\n",
       "        th, td {\n",
       "            width: 50%;\n",
       "            font-size: 16px;\n",
       "            text-align: left;\n",
       "            padding: 8px;\n",
       "            border-bottom: 1px solid #ddd;\n",
       "        }\n",
       "        td {\n",
       "            vertical-align: top;\n",
       "        }\n",
       "    </style>\n",
       "    <table border=\"1\" class=\"dataframe\">\n",
       "  <thead>\n",
       "    <tr style=\"text-align: right;\">\n",
       "      <th>Chosen</th>\n",
       "      <th>Rejected</th>\n",
       "    </tr>\n",
       "  </thead>\n",
       "  <tbody>\n",
       "    <tr>\n",
       "      <td>Julia wants to buy 4 of each type of CD. Let's calculate the total cost:<br><br>Rock and roll CDs: 4 * $5 = $20<br>Pop CDs: 4 * $10 = $40<br>Dance CDs: 4 * $3 = $12<br>Country CDs: 4 * $7 = $28<br><br>Total cost: $20 + $40 + $12 + $28 = $100<br><br>Julia has $75, so she is short by:<br><br>$100 - $75 = $25<br><br>Answer: Julia is short by 25 dollars.<br>Confidence: 100%</td>\n",
       "      <td>Let's calculate the total cost for each genre and come back to check if it meets Julia's budget constraint, then we find out how much she will fall short if needed:<br><br>Costs per CD:<br>rock CDs: $5 * $\\frac{4}{0} \\rm{since \\text{rock} CD}$ $= $\\underline{40$ dollars allocation failure} doesn't exist in your condition. Then update condition to:<br>total(): PopCDs * $\\frac{m(\\rm{pop}) }{5m(\\rm{\\text{$none$}})}$(here;all)+CountryCDs::$$q=q(\\frac{(135)(4)}{($pop + Country)*total)\\cdot($none$)}63$$/(none$=$${sum \\;(\\rm{restCDs}^R)},^*) $$/*zero investiture!!!*/$$PopCDs((P-$pop)/P)^*)+CountryCDs((C-$country)/C)^*)$$>slation$$((pop)-country)/pop as Total expenditure & $$None=pop$$only as value for term can exist[-]=>$$1/(($none \\;==\\phi)\\\\forall{*^\\circ})$==$$∞ @$(^\\circ\\exists)(none)$==$$∞ @$$0=>$w'(none)/$$$$=>$$0$$(*new $$contrib$$))$$if/or$$@none$$=sum({popCDs$$;CountryCDs})/77*(investments) ?$$¯=$$-{}{({ln;count})value\\cdot({(pelocity^*-eq*(\\frac{}{}))\\cdot({weight<=*\\^\\(\\bar{'}\\rangle})})}$$force disregarded data fault:-}$$CDstoBuy!!! $$No$$rule(problem statement==Q, predicate($c$ ;C)=>$$¯$$cf$$*$`TYPE$cRtn*(CDstoBuy)^(!)(@$\\underline{role^@};^{\\!\\exists}\\'\\([R\\cdot@$'c^$\"\\sin''b''\\sin^-''g''\\sin''g''*g''''``]\\!)))<br>end $$merge$$Save($-%>&longer Prefix$$=>('$$no_\\lang$$',$$true$$)_TIMECODE)_STRINGBOUNDARY$$code$$$$Li$$NR$$=$$:````@$$$!!$$$u$$$!!$$$```QUERY$longer$$```FILETYPE$$\"\"$$p$$=>1$$$q$$```<br>fallible $$close$$=$$q/(($pop\\%$$close)+part\\_fee':country'(4+))$$=$$(($pop$$)^%)$$q$$$$y$$ee=(((0)$$(q$$)^*;$$OPT$$$$__$$undefined$$$$____$$__^*$$__)*$$q$$)^$$__$$__^*(&((q$$*$$OPT$$)))$$$$!!! %\\%$$...)^*$!!0x60}\\|$$__$$__^*$$__TRUE__$$$$WRAP$$=|LCD$$@$$$.....->$$LCD$$FROM($NEW$$$$OBJECT$$,$DIR$$$debug$$$$HL$$=>$$LCDX$$$$$$Cdc$$$$#$$___Soon$$!!!...$$ANY$$=$$$entity$$@$$LCD$$$$$$IC$$$$NEW$$(_LCD)[[0.1ljImOK]]::(*gARBO$$$$``^1$$q$$$$$$$$PARTY$$MDFSV$$/$$1/$$.$$$$ *)=\"Blue@\"\"$H2O$\"@0.3l$$:$``%ˆ$^\"</td>\n",
       "    </tr>\n",
       "  </tbody>\n",
       "</table>"
      ],
      "text/plain": [
       "<IPython.core.display.HTML object>"
      ]
     },
     "metadata": {},
     "output_type": "display_data"
    }
   ],
   "source": []
  },
  {
   "cell_type": "code",
   "execution_count": null,
   "metadata": {},
   "outputs": [],
   "source": []
  }
 ],
 "metadata": {
  "kernelspec": {
   "display_name": "Python 3",
   "language": "python",
   "name": "python3"
  },
  "language_info": {
   "codemirror_mode": {
    "name": "ipython",
    "version": 3
   },
   "file_extension": ".py",
   "mimetype": "text/x-python",
   "name": "python",
   "nbconvert_exporter": "python",
   "pygments_lexer": "ipython3",
   "version": "3.10.13"
  }
 },
 "nbformat": 4,
 "nbformat_minor": 2
}
