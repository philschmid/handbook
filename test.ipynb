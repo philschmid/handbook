{
 "cells": [
  {
   "cell_type": "code",
   "execution_count": 3,
   "metadata": {},
   "outputs": [
    {
     "data": {
      "text/plain": [
       "Dataset({\n",
       "    features: ['original', 'candidates'],\n",
       "    num_rows: 100\n",
       "})"
      ]
     },
     "execution_count": 3,
     "metadata": {},
     "output_type": "execute_result"
    }
   ],
   "source": [
    "from datasets import load_dataset\n",
    "\n",
    "\n",
    "ds = load_dataset(\"json\", data_files=\"/home/ubuntu/alignment-handbook/test/iterative_dpo/iteration_0/candidates.json\", split=\"train\")\n",
    "ds"
   ]
  },
  {
   "cell_type": "code",
   "execution_count": 12,
   "metadata": {},
   "outputs": [],
   "source": [
    "s = ds[4]"
   ]
  },
  {
   "cell_type": "code",
   "execution_count": 13,
   "metadata": {},
   "outputs": [
    {
     "data": {
      "text/plain": [
       "[{'content': 'Q: In this task, you are given a sentence. You are expected to recognize the name of gene or protein. Although there might be several correct answers, you need to write one of them.\\n A nonpeptidyl small molecule SB 247464 , capable of activating granulocyte - colony - stimulating factor ( G - CSF ) signal transduction pathways , was identified in a high - throughput assay in cultured cells .\\nA:',\n",
       "  'role': 'user'},\n",
       " {'content': 'G-CSF (granulocyte-colony stimulating factor)',\n",
       "  'role': 'assistant'}]"
      ]
     },
     "execution_count": 13,
     "metadata": {},
     "output_type": "execute_result"
    }
   ],
   "source": [
    "s[\"original\"]"
   ]
  },
  {
   "cell_type": "code",
   "execution_count": 17,
   "metadata": {},
   "outputs": [
    {
     "data": {
      "application/vnd.jupyter.widget-view+json": {
       "model_id": "fd650d1742be41fda5f2fbb20d7fcabd",
       "version_major": 2,
       "version_minor": 0
      },
      "text/plain": [
       "Loading checkpoint shards:   0%|          | 0/4 [00:00<?, ?it/s]"
      ]
     },
     "metadata": {},
     "output_type": "display_data"
    },
    {
     "name": "stderr",
     "output_type": "stream",
     "text": [
      "WARNING:root:Some parameters are on the meta device device because they were offloaded to the cpu.\n",
      "Special tokens have been added in the vocabulary, make sure the associated word embeddings are fine-tuned or trained.\n"
     ]
    },
    {
     "ename": "UndefinedError",
     "evalue": "'str object' has no attribute 'role'",
     "output_type": "error",
     "traceback": [
      "\u001b[0;31m---------------------------------------------------------------------------\u001b[0m",
      "\u001b[0;31mUndefinedError\u001b[0m                            Traceback (most recent call last)",
      "Cell \u001b[0;32mIn[17], line 23\u001b[0m\n\u001b[1;32m     21\u001b[0m batch \u001b[38;5;241m=\u001b[39m []\n\u001b[1;32m     22\u001b[0m \u001b[38;5;28;01mfor\u001b[39;00m c \u001b[38;5;129;01min\u001b[39;00m s[\u001b[38;5;124m\"\u001b[39m\u001b[38;5;124moriginal\u001b[39m\u001b[38;5;124m\"\u001b[39m] \u001b[38;5;241m+\u001b[39m s[\u001b[38;5;124m\"\u001b[39m\u001b[38;5;124mcandidates\u001b[39m\u001b[38;5;124m\"\u001b[39m]:\n\u001b[0;32m---> 23\u001b[0m     batch\u001b[38;5;241m.\u001b[39mappend(\u001b[38;5;28;43mformat\u001b[39;49m\u001b[43m(\u001b[49m\u001b[43mc\u001b[49m\u001b[43m)\u001b[49m)\n\u001b[1;32m     24\u001b[0m \u001b[38;5;28mprint\u001b[39m(batch)\n\u001b[1;32m     25\u001b[0m res \u001b[38;5;241m=\u001b[39m rm_pipe(batch, \u001b[38;5;241m*\u001b[39m\u001b[38;5;241m*\u001b[39mpipe_kwargs)\n",
      "Cell \u001b[0;32mIn[17], line 19\u001b[0m, in \u001b[0;36mformat\u001b[0;34m(s)\u001b[0m\n\u001b[1;32m     18\u001b[0m \u001b[38;5;28;01mdef\u001b[39;00m \u001b[38;5;21mformat\u001b[39m(s):\n\u001b[0;32m---> 19\u001b[0m     \u001b[38;5;28;01mreturn\u001b[39;00m \u001b[43mrm_pipe\u001b[49m\u001b[38;5;241;43m.\u001b[39;49m\u001b[43mtokenizer\u001b[49m\u001b[38;5;241;43m.\u001b[39;49m\u001b[43mapply_chat_template\u001b[49m\u001b[43m(\u001b[49m\u001b[43ms\u001b[49m\u001b[43m,\u001b[49m\u001b[43m \u001b[49m\u001b[43mtokenize\u001b[49m\u001b[38;5;241;43m=\u001b[39;49m\u001b[38;5;28;43;01mFalse\u001b[39;49;00m\u001b[43m,\u001b[49m\u001b[43m \u001b[49m\u001b[43madd_generation_prompt\u001b[49m\u001b[38;5;241;43m=\u001b[39;49m\u001b[38;5;28;43;01mFalse\u001b[39;49;00m\u001b[43m)\u001b[49m\u001b[38;5;241m.\u001b[39mreplace(rm_pipe\u001b[38;5;241m.\u001b[39mtokenizer\u001b[38;5;241m.\u001b[39mbos_token, \u001b[38;5;124m\"\u001b[39m\u001b[38;5;124m\"\u001b[39m)\n",
      "File \u001b[0;32m/opt/conda/envs/pytorch/lib/python3.10/site-packages/transformers/tokenization_utils_base.py:1849\u001b[0m, in \u001b[0;36mPreTrainedTokenizerBase.apply_chat_template\u001b[0;34m(self, conversation, tools, documents, chat_template, add_generation_prompt, tokenize, padding, truncation, max_length, return_tensors, return_dict, tokenizer_kwargs, **kwargs)\u001b[0m\n\u001b[1;32m   1846\u001b[0m     \u001b[38;5;28;01mif\u001b[39;00m \u001b[38;5;28mhasattr\u001b[39m(chat, \u001b[38;5;124m\"\u001b[39m\u001b[38;5;124mmessages\u001b[39m\u001b[38;5;124m\"\u001b[39m):\n\u001b[1;32m   1847\u001b[0m         \u001b[38;5;66;03m# Indicates it's a Conversation object\u001b[39;00m\n\u001b[1;32m   1848\u001b[0m         chat \u001b[38;5;241m=\u001b[39m chat\u001b[38;5;241m.\u001b[39mmessages\n\u001b[0;32m-> 1849\u001b[0m     rendered_chat \u001b[38;5;241m=\u001b[39m \u001b[43mcompiled_template\u001b[49m\u001b[38;5;241;43m.\u001b[39;49m\u001b[43mrender\u001b[49m\u001b[43m(\u001b[49m\n\u001b[1;32m   1850\u001b[0m \u001b[43m        \u001b[49m\u001b[43mmessages\u001b[49m\u001b[38;5;241;43m=\u001b[39;49m\u001b[43mchat\u001b[49m\u001b[43m,\u001b[49m\n\u001b[1;32m   1851\u001b[0m \u001b[43m        \u001b[49m\u001b[43mtools\u001b[49m\u001b[38;5;241;43m=\u001b[39;49m\u001b[43mtool_schemas\u001b[49m\u001b[43m,\u001b[49m\n\u001b[1;32m   1852\u001b[0m \u001b[43m        \u001b[49m\u001b[43mdocuments\u001b[49m\u001b[38;5;241;43m=\u001b[39;49m\u001b[43mdocuments\u001b[49m\u001b[43m,\u001b[49m\n\u001b[1;32m   1853\u001b[0m \u001b[43m        \u001b[49m\u001b[43madd_generation_prompt\u001b[49m\u001b[38;5;241;43m=\u001b[39;49m\u001b[43madd_generation_prompt\u001b[49m\u001b[43m,\u001b[49m\n\u001b[1;32m   1854\u001b[0m \u001b[43m        \u001b[49m\u001b[38;5;241;43m*\u001b[39;49m\u001b[38;5;241;43m*\u001b[39;49m\u001b[43mtemplate_kwargs\u001b[49m\u001b[43m,\u001b[49m\n\u001b[1;32m   1855\u001b[0m \u001b[43m    \u001b[49m\u001b[43m)\u001b[49m\n\u001b[1;32m   1856\u001b[0m     rendered\u001b[38;5;241m.\u001b[39mappend(rendered_chat)\n\u001b[1;32m   1858\u001b[0m \u001b[38;5;28;01mif\u001b[39;00m \u001b[38;5;129;01mnot\u001b[39;00m is_batched:\n",
      "File \u001b[0;32m/opt/conda/envs/pytorch/lib/python3.10/site-packages/jinja2/environment.py:1301\u001b[0m, in \u001b[0;36mTemplate.render\u001b[0;34m(self, *args, **kwargs)\u001b[0m\n\u001b[1;32m   1299\u001b[0m     \u001b[38;5;28;01mreturn\u001b[39;00m \u001b[38;5;28mself\u001b[39m\u001b[38;5;241m.\u001b[39menvironment\u001b[38;5;241m.\u001b[39mconcat(\u001b[38;5;28mself\u001b[39m\u001b[38;5;241m.\u001b[39mroot_render_func(ctx))  \u001b[38;5;66;03m# type: ignore\u001b[39;00m\n\u001b[1;32m   1300\u001b[0m \u001b[38;5;28;01mexcept\u001b[39;00m \u001b[38;5;167;01mException\u001b[39;00m:\n\u001b[0;32m-> 1301\u001b[0m     \u001b[38;5;28;43mself\u001b[39;49m\u001b[38;5;241;43m.\u001b[39;49m\u001b[43menvironment\u001b[49m\u001b[38;5;241;43m.\u001b[39;49m\u001b[43mhandle_exception\u001b[49m\u001b[43m(\u001b[49m\u001b[43m)\u001b[49m\n",
      "File \u001b[0;32m/opt/conda/envs/pytorch/lib/python3.10/site-packages/jinja2/environment.py:936\u001b[0m, in \u001b[0;36mEnvironment.handle_exception\u001b[0;34m(self, source)\u001b[0m\n\u001b[1;32m    931\u001b[0m \u001b[38;5;250m\u001b[39m\u001b[38;5;124;03m\"\"\"Exception handling helper.  This is used internally to either raise\u001b[39;00m\n\u001b[1;32m    932\u001b[0m \u001b[38;5;124;03mrewritten exceptions or return a rendered traceback for the template.\u001b[39;00m\n\u001b[1;32m    933\u001b[0m \u001b[38;5;124;03m\"\"\"\u001b[39;00m\n\u001b[1;32m    934\u001b[0m \u001b[38;5;28;01mfrom\u001b[39;00m \u001b[38;5;21;01m.\u001b[39;00m\u001b[38;5;21;01mdebug\u001b[39;00m \u001b[38;5;28;01mimport\u001b[39;00m rewrite_traceback_stack\n\u001b[0;32m--> 936\u001b[0m \u001b[38;5;28;01mraise\u001b[39;00m rewrite_traceback_stack(source\u001b[38;5;241m=\u001b[39msource)\n",
      "File \u001b[0;32m<template>:1\u001b[0m, in \u001b[0;36mtop-level template code\u001b[0;34m()\u001b[0m\n",
      "\u001b[0;31mUndefinedError\u001b[0m: 'str object' has no attribute 'role'"
     ]
    }
   ],
   "source": [
    "import torch \n",
    "from transformers import pipeline\n",
    "rm_pipe = pipeline(\n",
    "    \"sentiment-analysis\",\n",
    "    \"sfairXC/FsfairX-LLaMA3-RM-v0.1\",\n",
    "    device_map=\"auto\",\n",
    "    model_kwargs={\"torch_dtype\": torch.bfloat16},\n",
    "    truncation=True,\n",
    "    \n",
    ")\n"
   ]
  },
  {
   "cell_type": "code",
   "execution_count": 21,
   "metadata": {},
   "outputs": [
    {
     "data": {
      "text/plain": [
       "{'original': [{'content': 'Q: In this task, you are given a sentence. You are expected to recognize the name of gene or protein. Although there might be several correct answers, you need to write one of them.\\n A nonpeptidyl small molecule SB 247464 , capable of activating granulocyte - colony - stimulating factor ( G - CSF ) signal transduction pathways , was identified in a high - throughput assay in cultured cells .\\nA:',\n",
       "   'role': 'user'},\n",
       "  {'content': 'G-CSF (granulocyte-colony stimulating factor)',\n",
       "   'role': 'assistant'}],\n",
       " 'candidates': [[{'content': 'Q: In this task, you are given a sentence. You are expected to recognize the name of gene or protein. Although there might be several correct answers, you need to write one of them.\\n A nonpeptidyl small molecule SB 247464 , capable of activating granulocyte - colony - stimulating factor ( G - CSF ) signal transduction pathways , was identified in a high - throughput assay in cultured cells .\\nA:',\n",
       "    'role': 'user'},\n",
       "   {'content': 'In this task, the sentence provided is: \"A nonpeptidyl small molecule SB 247464 capable of activating granulocyte - colony - stimulating factor ( G - CSF ) signal transduction pathways was identified in a high-throughput assay in cultured cells.\" The correct answer is: \"SB 247464.\"',\n",
       "    'role': 'assistant'}],\n",
       "  [{'content': 'Q: In this task, you are given a sentence. You are expected to recognize the name of gene or protein. Although there might be several correct answers, you need to write one of them.\\n A nonpeptidyl small molecule SB 247464 , capable of activating granulocyte - colony - stimulating factor ( G - CSF ) signal transduction pathways , was identified in a high - throughput assay in cultured cells .\\nA:',\n",
       "    'role': 'user'},\n",
       "   {'content': 'The given sentence is \"A nonpeptidyl small molecule SB 247464 , capable of activating granulocyte - colony - stimulating factor ( G - CSF ) signal transduction pathways, was identified in a high-throughput assay in cultured cells.\" The correct answer is \"SB 247464,\" which is the name of the small molecule SB.',\n",
       "    'role': 'assistant'}],\n",
       "  [{'content': 'Q: In this task, you are given a sentence. You are expected to recognize the name of gene or protein. Although there might be several correct answers, you need to write one of them.\\n A nonpeptidyl small molecule SB 247464 , capable of activating granulocyte - colony - stimulating factor ( G - CSF ) signal transduction pathways , was identified in a high - throughput assay in cultured cells .\\nA:',\n",
       "    'role': 'user'},\n",
       "   {'content': 'In this task, the sentence provided is: A nonpeptidyl small molecule SB 247464 , capable of activating granulocyte - colony - stimulating factor ( G - CSF ) signal transduction pathways, was identified in a high-throughput assay in cultured cells. The correct answer is one of the correct answers, as the sentence mentions the identification of SB 247464 in cultured cells.',\n",
       "    'role': 'assistant'}],\n",
       "  [{'content': 'Q: In this task, you are given a sentence. You are expected to recognize the name of gene or protein. Although there might be several correct answers, you need to write one of them.\\n A nonpeptidyl small molecule SB 247464 , capable of activating granulocyte - colony - stimulating factor ( G - CSF ) signal transduction pathways , was identified in a high - throughput assay in cultured cells .\\nA:',\n",
       "    'role': 'user'},\n",
       "   {'content': 'In this task, the sentence \"A nonpeptidyl small molecule SB 247464\" is given. The correct answer is \"SB 247464\". There are multiple correct answers, but only one has been specified in the given context.',\n",
       "    'role': 'assistant'}],\n",
       "  [{'content': 'Q: In this task, you are given a sentence. You are expected to recognize the name of gene or protein. Although there might be several correct answers, you need to write one of them.\\n A nonpeptidyl small molecule SB 247464 , capable of activating granulocyte - colony - stimulating factor ( G - CSF ) signal transduction pathways , was identified in a high - throughput assay in cultured cells .\\nA:',\n",
       "    'role': 'user'},\n",
       "   {'content': 'Since there are several correct answers, the correct choice for the second sentence is \"SB 247464\" since it is the only one that could be a nonpeptidyl small molecule capable of activating G-CSF signal transduction pathways.',\n",
       "    'role': 'assistant'}]]}"
      ]
     },
     "execution_count": 21,
     "metadata": {},
     "output_type": "execute_result"
    }
   ],
   "source": [
    "s"
   ]
  },
  {
   "cell_type": "code",
   "execution_count": 25,
   "metadata": {},
   "outputs": [
    {
     "data": {
      "text/plain": [
       "[[{'content': 'Q: In this task, you are given a sentence. You are expected to recognize the name of gene or protein. Although there might be several correct answers, you need to write one of them.\\n A nonpeptidyl small molecule SB 247464 , capable of activating granulocyte - colony - stimulating factor ( G - CSF ) signal transduction pathways , was identified in a high - throughput assay in cultured cells .\\nA:',\n",
       "   'role': 'user'},\n",
       "  {'content': 'G-CSF (granulocyte-colony stimulating factor)',\n",
       "   'role': 'assistant'}],\n",
       " [{'content': 'Q: In this task, you are given a sentence. You are expected to recognize the name of gene or protein. Although there might be several correct answers, you need to write one of them.\\n A nonpeptidyl small molecule SB 247464 , capable of activating granulocyte - colony - stimulating factor ( G - CSF ) signal transduction pathways , was identified in a high - throughput assay in cultured cells .\\nA:',\n",
       "   'role': 'user'},\n",
       "  {'content': 'In this task, the sentence provided is: \"A nonpeptidyl small molecule SB 247464 capable of activating granulocyte - colony - stimulating factor ( G - CSF ) signal transduction pathways was identified in a high-throughput assay in cultured cells.\" The correct answer is: \"SB 247464.\"',\n",
       "   'role': 'assistant'}],\n",
       " [{'content': 'Q: In this task, you are given a sentence. You are expected to recognize the name of gene or protein. Although there might be several correct answers, you need to write one of them.\\n A nonpeptidyl small molecule SB 247464 , capable of activating granulocyte - colony - stimulating factor ( G - CSF ) signal transduction pathways , was identified in a high - throughput assay in cultured cells .\\nA:',\n",
       "   'role': 'user'},\n",
       "  {'content': 'The given sentence is \"A nonpeptidyl small molecule SB 247464 , capable of activating granulocyte - colony - stimulating factor ( G - CSF ) signal transduction pathways, was identified in a high-throughput assay in cultured cells.\" The correct answer is \"SB 247464,\" which is the name of the small molecule SB.',\n",
       "   'role': 'assistant'}],\n",
       " [{'content': 'Q: In this task, you are given a sentence. You are expected to recognize the name of gene or protein. Although there might be several correct answers, you need to write one of them.\\n A nonpeptidyl small molecule SB 247464 , capable of activating granulocyte - colony - stimulating factor ( G - CSF ) signal transduction pathways , was identified in a high - throughput assay in cultured cells .\\nA:',\n",
       "   'role': 'user'},\n",
       "  {'content': 'In this task, the sentence provided is: A nonpeptidyl small molecule SB 247464 , capable of activating granulocyte - colony - stimulating factor ( G - CSF ) signal transduction pathways, was identified in a high-throughput assay in cultured cells. The correct answer is one of the correct answers, as the sentence mentions the identification of SB 247464 in cultured cells.',\n",
       "   'role': 'assistant'}],\n",
       " [{'content': 'Q: In this task, you are given a sentence. You are expected to recognize the name of gene or protein. Although there might be several correct answers, you need to write one of them.\\n A nonpeptidyl small molecule SB 247464 , capable of activating granulocyte - colony - stimulating factor ( G - CSF ) signal transduction pathways , was identified in a high - throughput assay in cultured cells .\\nA:',\n",
       "   'role': 'user'},\n",
       "  {'content': 'In this task, the sentence \"A nonpeptidyl small molecule SB 247464\" is given. The correct answer is \"SB 247464\". There are multiple correct answers, but only one has been specified in the given context.',\n",
       "   'role': 'assistant'}],\n",
       " [{'content': 'Q: In this task, you are given a sentence. You are expected to recognize the name of gene or protein. Although there might be several correct answers, you need to write one of them.\\n A nonpeptidyl small molecule SB 247464 , capable of activating granulocyte - colony - stimulating factor ( G - CSF ) signal transduction pathways , was identified in a high - throughput assay in cultured cells .\\nA:',\n",
       "   'role': 'user'},\n",
       "  {'content': 'Since there are several correct answers, the correct choice for the second sentence is \"SB 247464\" since it is the only one that could be a nonpeptidyl small molecule capable of activating G-CSF signal transduction pathways.',\n",
       "   'role': 'assistant'}]]"
      ]
     },
     "execution_count": 25,
     "metadata": {},
     "output_type": "execute_result"
    }
   ],
   "source": [
    "[s[\"original\"]] + s[\"candidates\"]"
   ]
  },
  {
   "cell_type": "code",
   "execution_count": 33,
   "metadata": {},
   "outputs": [
    {
     "name": "stdout",
     "output_type": "stream",
     "text": [
      "{'original': {'messages': [{'content': 'Q: In this task, you are given a sentence. You are expected to recognize the name of gene or protein. Although there might be several correct answers, you need to write one of them.\\n A nonpeptidyl small molecule SB 247464 , capable of activating granulocyte - colony - stimulating factor ( G - CSF ) signal transduction pathways , was identified in a high - throughput assay in cultured cells .\\nA:', 'role': 'user'}, {'content': 'G-CSF (granulocyte-colony stimulating factor)', 'role': 'assistant'}], 'score': 0.46875}, 'candidates': [{'messages': [{'content': 'Q: In this task, you are given a sentence. You are expected to recognize the name of gene or protein. Although there might be several correct answers, you need to write one of them.\\n A nonpeptidyl small molecule SB 247464 , capable of activating granulocyte - colony - stimulating factor ( G - CSF ) signal transduction pathways , was identified in a high - throughput assay in cultured cells .\\nA:', 'role': 'user'}, {'content': 'In this task, the sentence provided is: \"A nonpeptidyl small molecule SB 247464 capable of activating granulocyte - colony - stimulating factor ( G - CSF ) signal transduction pathways was identified in a high-throughput assay in cultured cells.\" The correct answer is: \"SB 247464.\"', 'role': 'assistant'}], 'score': -6.03125}, {'messages': [{'content': 'Q: In this task, you are given a sentence. You are expected to recognize the name of gene or protein. Although there might be several correct answers, you need to write one of them.\\n A nonpeptidyl small molecule SB 247464 , capable of activating granulocyte - colony - stimulating factor ( G - CSF ) signal transduction pathways , was identified in a high - throughput assay in cultured cells .\\nA:', 'role': 'user'}, {'content': 'The given sentence is \"A nonpeptidyl small molecule SB 247464 , capable of activating granulocyte - colony - stimulating factor ( G - CSF ) signal transduction pathways, was identified in a high-throughput assay in cultured cells.\" The correct answer is \"SB 247464,\" which is the name of the small molecule SB.', 'role': 'assistant'}], 'score': -5.5625}, {'messages': [{'content': 'Q: In this task, you are given a sentence. You are expected to recognize the name of gene or protein. Although there might be several correct answers, you need to write one of them.\\n A nonpeptidyl small molecule SB 247464 , capable of activating granulocyte - colony - stimulating factor ( G - CSF ) signal transduction pathways , was identified in a high - throughput assay in cultured cells .\\nA:', 'role': 'user'}, {'content': 'In this task, the sentence provided is: A nonpeptidyl small molecule SB 247464 , capable of activating granulocyte - colony - stimulating factor ( G - CSF ) signal transduction pathways, was identified in a high-throughput assay in cultured cells. The correct answer is one of the correct answers, as the sentence mentions the identification of SB 247464 in cultured cells.', 'role': 'assistant'}], 'score': -7.34375}, {'messages': [{'content': 'Q: In this task, you are given a sentence. You are expected to recognize the name of gene or protein. Although there might be several correct answers, you need to write one of them.\\n A nonpeptidyl small molecule SB 247464 , capable of activating granulocyte - colony - stimulating factor ( G - CSF ) signal transduction pathways , was identified in a high - throughput assay in cultured cells .\\nA:', 'role': 'user'}, {'content': 'In this task, the sentence \"A nonpeptidyl small molecule SB 247464\" is given. The correct answer is \"SB 247464\". There are multiple correct answers, but only one has been specified in the given context.', 'role': 'assistant'}], 'score': -7.25}, {'messages': [{'content': 'Q: In this task, you are given a sentence. You are expected to recognize the name of gene or protein. Although there might be several correct answers, you need to write one of them.\\n A nonpeptidyl small molecule SB 247464 , capable of activating granulocyte - colony - stimulating factor ( G - CSF ) signal transduction pathways , was identified in a high - throughput assay in cultured cells .\\nA:', 'role': 'user'}, {'content': 'Since there are several correct answers, the correct choice for the second sentence is \"SB 247464\" since it is the only one that could be a nonpeptidyl small molecule capable of activating G-CSF signal transduction pathways.', 'role': 'assistant'}], 'score': -5.96875}]}\n"
     ]
    }
   ],
   "source": [
    "\n",
    "pipe_kwargs = {\n",
    "    \"top_k\": None,\n",
    "    \"function_to_apply\": \"none\",\n",
    "    \"batch_size\": 6\n",
    "}\n",
    "\n",
    "def format(s):\n",
    "    return rm_pipe.tokenizer.apply_chat_template(s, tokenize=False, add_generation_prompt=False).replace(rm_pipe.tokenizer.bos_token, \"\")\n",
    "\n",
    "batch = []\n",
    "candidate_array = [s[\"original\"]] + s[\"candidates\"]\n",
    "for c in [s[\"original\"]] + s[\"candidates\"]:\n",
    "    batch.append(format(c))\n",
    "res = rm_pipe(batch, **pipe_kwargs)\n",
    "scores = [output[0][\"score\"] for output in res]\n",
    "# convert to list with scores \n",
    "result = {\n",
    "    \"original\": {\n",
    "        \"messages\": s[\"original\"],\n",
    "        \"score\": scores[0]\n",
    "        },\n",
    "    \"candidates\": [\n",
    "     {\n",
    "         \"messages\": c,\n",
    "         \"score\": scores[i+1]\n",
    "     } for i, c in enumerate(s[\"candidates\"])\n",
    "    ]\n",
    "}\n",
    "print(result)\n",
    "\n",
    "# # get the index of the two highest scores\n",
    "# tensor = torch.tensor([output[0][\"score\"] for output in res])\n",
    "# top2_values, top2_indices = torch.topk(tensor, 2)\n",
    "# top2_indices.tolist()\n",
    "\n",
    "# result = {\n",
    "#     \"chosen\": candidate_array[top2_indices[0]],\n",
    "#     \"rejected\": candidate_array[top2_indices[1]]\n",
    "# }\n",
    "# print(result[\"chosen\"])\n",
    "# print(result[\"rejected\"])\n",
    "\n",
    "# create new preference pairs from the two top candidates\n",
    "\n"
   ]
  },
  {
   "cell_type": "code",
   "execution_count": null,
   "metadata": {},
   "outputs": [],
   "source": []
  },
  {
   "cell_type": "code",
   "execution_count": 35,
   "metadata": {},
   "outputs": [],
   "source": [
    "from datasets import Dataset\n",
    "\n",
    "x = Dataset.from_list([result])"
   ]
  },
  {
   "cell_type": "code",
   "execution_count": 42,
   "metadata": {},
   "outputs": [
    {
     "data": {
      "application/vnd.jupyter.widget-view+json": {
       "model_id": "f1215b79a3c644088282dc260ee9d8e7",
       "version_major": 2,
       "version_minor": 0
      },
      "text/plain": [
       "Map:   0%|          | 0/1 [00:00<?, ? examples/s]"
      ]
     },
     "metadata": {},
     "output_type": "display_data"
    },
    {
     "data": {
      "text/plain": [
       "{'chosen': [{'content': 'Q: In this task, you are given a sentence. You are expected to recognize the name of gene or protein. Although there might be several correct answers, you need to write one of them.\\n A nonpeptidyl small molecule SB 247464 , capable of activating granulocyte - colony - stimulating factor ( G - CSF ) signal transduction pathways , was identified in a high - throughput assay in cultured cells .\\nA:',\n",
       "   'role': 'user'},\n",
       "  {'content': 'G-CSF (granulocyte-colony stimulating factor)',\n",
       "   'role': 'assistant'}],\n",
       " 'rejected': [{'content': 'Q: In this task, you are given a sentence. You are expected to recognize the name of gene or protein. Although there might be several correct answers, you need to write one of them.\\n A nonpeptidyl small molecule SB 247464 , capable of activating granulocyte - colony - stimulating factor ( G - CSF ) signal transduction pathways , was identified in a high - throughput assay in cultured cells .\\nA:',\n",
       "   'role': 'user'},\n",
       "  {'content': 'The given sentence is \"A nonpeptidyl small molecule SB 247464 , capable of activating granulocyte - colony - stimulating factor ( G - CSF ) signal transduction pathways, was identified in a high-throughput assay in cultured cells.\" The correct answer is \"SB 247464,\" which is the name of the small molecule SB.',\n",
       "   'role': 'assistant'}]}"
      ]
     },
     "execution_count": 42,
     "metadata": {},
     "output_type": "execute_result"
    }
   ],
   "source": [
    "def create_pair(s):\n",
    "    arr = [s[\"original\"]] + s[\"candidates\"]\n",
    "    tensor = torch.tensor([s[\"score\"] for s in arr])\n",
    "    _, top2_indices = torch.topk(tensor, 2)\n",
    "    top2_indices.tolist()\n",
    "\n",
    "    return  {\n",
    "        \"chosen\": arr[top2_indices[0]][\"messages\"],\n",
    "        \"rejected\": arr[top2_indices[1]][\"messages\"]\n",
    "    }\n",
    "\n",
    "y = x.map(create_pair, remove_columns=x.features)\n",
    "y[0]"
   ]
  },
  {
   "cell_type": "code",
   "execution_count": 8,
   "metadata": {},
   "outputs": [
    {
     "data": {
      "text/plain": [
       "{'chosen': [{'content': 'This task is to translate a news commentary given in Arabic language into Czech language. Translate the input statement into the output language  while preserving the numberical values, special characters and context of the commentary done.\\n\\n[Q]: إن المشكلة الحقيقية في هذا التنظير المحموم للمؤامرات هي أنه يؤدي إلى تهييج مشاعر المواطنين ولكن بدون منحهم أساساً صلباً من الأدلة التي تمكنهم من بناء نظرتهم إلى العالم، وبدون أي نوع من الإرشاد البنَّاء الذي من ش��نه أن يسمح لهم بتوجيه مشاعرهم. وهذا هو السبب الذي يجعل الكثير من خيوط المناقشة تتحول من مجرد تكهنات مسلية من جانب المواطنين إلى خطاب الكراهية وجنون العظمة. وفي هذه البيئة المحمومة، وفي غياب المصادقة التحريرية أو الأدوات اللازمة للتعرف على المصادر، يتحول المواطنين إلى فريسة لزعماء الدهماء والغوغاء، كما رأينا أثناء الأسابيع الأخيرة في إطار الاجتماعات الحاشدة التي نظمتها سارة بالين بعد أن اتهمت نظريات الإنترنت باراك أوباما بأنه إرهابي أو على صلة بالإرهابيين.\\n[A]: Skutečný problém tohoto horečnatého „konspiračního teoretizování“ tkví v\\\\xa0tom, že občany emočně zneklidňuje, ale nenabízí jim žádný pevný důkazní základ, o který by opřeli svůj pohled na svět, ani konstruktivní směr, jímž by své emoce obrátili. Právě to je důvod, proč tolik diskusí přechází od potenciálně zajímavých spekulací občanů k\\\\xa0nenávistným výlevům a paranoie.\\n\\n\\n[Q]: لكن ثورتنا البرتقالية التي قمنا بها في الشتاء الماضي تؤكد أن سيادة شعب أوكرانيا صارت بين أيدي أبنائه. من هنا، وعلى الرغم من شكوك اليوم ومصاعبه، فإن إيماني بأوروبا سيظل ثابتاً راسخاً. وإنني لأرفض اليأس كاستجابة أخيرة للغموض الذي اكتنف ماضي أوكرانيا والأهوال التي أحاطت به. كما أرفض وجهة النظر التي تقول إن أوكرانيا متعلقة إلى حدٍ مأساوي بالليل البهيم الذي خلفه تراث الشيوعية، وإننا لن نستطيع أبداً أن نشهد بزوغ فجر السلام والوحدة الأوروبية الحقيقية.\\n[A]: Odmítám přijmout beznaděj jako konečnou reakci na nejasnosti a hrůzy ukrajinských dějin. Odmítám přijmout názor, že Ukrajina je tak tragicky spjata s bezhvězdnou půlnocí komunistického dědictví, že nikdy nemůže spatřit úsvit míru a opravdové evropské jednoty.\\n\\n\\n[Q]: ووفقاً لتقديرات ديفيد فيكتور، خبير الطاقة بجامعة كاليفورنيا في سان دييجو، فإن التحول من الفحم إلى الغاز الطبيعي كان سبباً في خفض الانبعاثات في الولايات المتحدة بنحو 400 إلى 500 ميجا طن من ثاني أكسيد الكربون سنويا. ولوضع هذا الرقم في منظوره الصحيح، فيكفي أن نقول إنه يعادل ضعفي التأثير الإجمالي لبروتوكول كيوتو على الانبعاثات الكربونية في بقية العالم، بما في ذلك الاتحاد الأوروبي.\\n[A]:',\n",
       "   'role': 'user'},\n",
       "  {'content': 'Podle odhadu Davida Vitkra, energetického experta z Kalifornské univerzity v San Diegu, byl přechod z uhlí na zemní plyn důvodem snížení emisí v USA o 400-500 milionů tunoxidu uhličitue priority, které je ekvivalentní úspoře emisí jemsbitruhé součky vpozicedcelém svět, včetve Evropské un.',\n",
       "   'role': 'assistant'}]}"
      ]
     },
     "execution_count": 8,
     "metadata": {},
     "output_type": "execute_result"
    }
   ],
   "source": [
    "ds = load_dataset(\"json\", data_files=\"//home/ubuntu/alignment-handbook/test/iterative_dpo/iteration_0/prompts.json\", split=\"train\")\n",
    "\n",
    "ds[43]\n",
    "\n",
    "# ds.to_json(\"test.json\")"
   ]
  },
  {
   "cell_type": "code",
   "execution_count": 33,
   "metadata": {},
   "outputs": [],
   "source": [
    "from typing import Dict, List\n",
    "import torch\n",
    "from transformers import AutoModelForSequenceClassification, AutoTokenizer\n",
    "\n",
    "\n",
    "class ArmoRMPipeline:\n",
    "    def __init__(self, model_id, device_map=\"auto\", torch_dtype=torch.bfloat16, truncation=True, trust_remote_code=False, max_length=4096):\n",
    "        self.model = AutoModelForSequenceClassification.from_pretrained(\n",
    "            model_id,\n",
    "            device_map=device_map,\n",
    "            trust_remote_code=trust_remote_code,\n",
    "            torch_dtype=torch_dtype,\n",
    "        )\n",
    "        self.tokenizer = AutoTokenizer.from_pretrained(\n",
    "            model_id,\n",
    "            use_fast=True,\n",
    "        )\n",
    "        self.truncation = truncation\n",
    "        self.device = self.model.device\n",
    "        self.max_length = max_length\n",
    "\n",
    "    def __call__(self, messages: List[Dict[str, str]]) -> Dict[str, float]:\n",
    "        \"\"\"\n",
    "        messages: OpenAI chat messages to be scored\n",
    "        Note: no batching since due to length differences, the model will have to pad to the max length which is not efficient\n",
    "        Returns: a dictionary with the score between 0 and 1\n",
    "        \"\"\"\n",
    "        input_ids = self.tokenizer.apply_chat_template(\n",
    "            messages,\n",
    "            return_tensors=\"pt\",\n",
    "            padding=True,\n",
    "            truncation=self.truncation,\n",
    "            max_length=self.max_length,\n",
    "        ).to(self.device)\n",
    "        with torch.no_grad():\n",
    "            output = self.model(input_ids)\n",
    "            score = output.score.float().item()\n",
    "        return {\"score\": score}\n"
   ]
  },
  {
   "cell_type": "code",
   "execution_count": 34,
   "metadata": {},
   "outputs": [
    {
     "data": {
      "application/vnd.jupyter.widget-view+json": {
       "model_id": "8a305879209f45179d4e09ce30400812",
       "version_major": 2,
       "version_minor": 0
      },
      "text/plain": [
       "Loading checkpoint shards:   0%|          | 0/4 [00:00<?, ?it/s]"
      ]
     },
     "metadata": {},
     "output_type": "display_data"
    },
    {
     "name": "stderr",
     "output_type": "stream",
     "text": [
      "WARNING:root:Some parameters are on the meta device device because they were offloaded to the cpu.\n",
      "Special tokens have been added in the vocabulary, make sure the associated word embeddings are fine-tuned or trained.\n"
     ]
    },
    {
     "name": "stdout",
     "output_type": "stream",
     "text": [
      "{'score': 0.109375}\n",
      "{'score': 0.1669921875}\n",
      "{'score': 0.03759765625}\n"
     ]
    }
   ],
   "source": [
    "# Create Reward Model Pipeline \n",
    "prompt = 'What are some synonyms for the word \"beautiful\"?'\n",
    "rm = ArmoRMPipeline(\"RLHFlow/ArmoRM-Llama3-8B-v0.1\", trust_remote_code=True)\n",
    "# score the messages\n",
    "response1 = 'Nicely, Beautifully, Handsome, Stunning, Wonderful, Gorgeous, Pretty, Stunning, Elegant'\n",
    "score1 = rm([{\"role\": \"user\", \"content\": prompt}, {\"role\": \"assistant\", \"content\": response1}])\n",
    "print(score1)\n",
    "\n",
    "response2 = '''Certainly! Here are some synonyms for the word \"beautiful\":\n",
    "\n",
    "1. Gorgeous\n",
    "2. Lovely\n",
    "3. Stunning\n",
    "4. Attractive\n",
    "5. Pretty\n",
    "6. Elegant\n",
    "7. Exquisite\n",
    "8. Handsome\n",
    "9. Charming\n",
    "10. Alluring\n",
    "11. Radiant\n",
    "12. Magnificent\n",
    "13. Graceful\n",
    "14. Enchanting\n",
    "15. Dazzling\n",
    "\n",
    "These synonyms can be used in various contexts to convey the idea of beauty.'''\n",
    "score2 = rm([{\"role\": \"user\", \"content\": prompt}, {\"role\": \"assistant\", \"content\": response2}])\n",
    "print(score2)\n",
    "\n",
    "response3 = 'Sorry i cannot answer this.'\n",
    "score3 = rm([{\"role\": \"user\", \"content\": prompt}, {\"role\": \"assistant\", \"content\": response3}])\n",
    "print(score3)\n"
   ]
  },
  {
   "cell_type": "code",
   "execution_count": 32,
   "metadata": {},
   "outputs": [
    {
     "name": "stdout",
     "output_type": "stream",
     "text": [
      "{'score': 0.109375}\n",
      "{'score': 0.1669921875}\n",
      "{'score': 0.03759765625}\n"
     ]
    }
   ],
   "source": [
    "for i in [input, inputs2, inputs3]:\n",
    "    print(rm(i))"
   ]
  },
  {
   "cell_type": "markdown",
   "metadata": {},
   "source": []
  }
 ],
 "metadata": {
  "language_info": {
   "name": "python"
  }
 },
 "nbformat": 4,
 "nbformat_minor": 2
}
