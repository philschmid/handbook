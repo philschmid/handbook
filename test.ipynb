{
 "cells": [
  {
   "cell_type": "code",
   "execution_count": 4,
   "metadata": {},
   "outputs": [
    {
     "name": "stdout",
     "output_type": "stream",
     "text": [
      "prompt: In this task, a passage will be given and the goal is to identify an event from the passage. An event is defined as a single word representing something that happened, is happening, or may happen. An event can be factual or hypothetical, positive or negative, certain or uncertain. While most events are based on verbs, an event can also be based on a noun (ex. storm, snow, rainfall) or a copula verb (is, was, been, etc.). The event must not be a pronoun or an adjective. For noun events with multiple words, use the last word in the phrase as event.\n",
      "\n",
      "Example Input: Passage: The purchase price was disclosed in a preliminary prospectus issued in connection with MGM Grand's planned offering of six million common shares. The luxury airline and casino company, 98.6%-owned by investor Kirk Kerkorian and his Tracinda Corp., earlier this month announced its agreements to acquire the properties, but didn't disclose the purchase price.\n",
      "Example Output: disclosed\n",
      "\n",
      "Example Input: Passage: Several deputies from the ruling MPLA have criticised the \"excessive powers\" granted to Savimbi although they followed the party's advice to approve the law. A UN source said the situation would only fully return to normal after the next general elections are held in two or three years time.\n",
      "Example Output: criticised\n",
      "\n",
      "Example Input: Passage: The requirements are based on the International Olympic Committee's Candidate City Questionnaire and include questions on all 17 themes in the international candidature city files. The bid books will be due back to the USOC on Jan. 22, 2007.\n",
      "Example Output:\n"
     ]
    },
    {
     "data": {
      "application/vnd.jupyter.widget-view+json": {
       "model_id": "c4937fae3f8a41e3939ddeefa3e6b857",
       "version_major": 2,
       "version_minor": 0
      },
      "text/plain": [
       "Loading checkpoint shards:   0%|          | 0/2 [00:00<?, ?it/s]"
      ]
     },
     "metadata": {},
     "output_type": "display_data"
    },
    {
     "name": "stdout",
     "output_type": "stream",
     "text": [
      "Iteration 1\n",
      ": In this task, the event \"The purchase price was disclosed in a preliminary prospectus issued in connection with MGM Grand's planned offering of six million common shares\" from the passage \"The purchase price was disclosed in a preliminary prospectus issued in connection with MGM Grand's planned offering of six million common shares\" is an event. The last word in the phrase \"six million common shares\" is an event.\n",
      "--------------------------------------------------------------------------------\n"
     ]
    },
    {
     "data": {
      "application/vnd.jupyter.widget-view+json": {
       "model_id": "e94217357e1b4660ba318cf4c9236414",
       "version_major": 2,
       "version_minor": 0
      },
      "text/plain": [
       "Loading checkpoint shards:   0%|          | 0/2 [00:00<?, ?it/s]"
      ]
     },
     "metadata": {},
     "output_type": "display_data"
    },
    {
     "name": "stdout",
     "output_type": "stream",
     "text": [
      "Iteration 2\n",
      ": The event being identified in the passage is the passage's requirement that the requirements are based on the International Olympic Committee's Candidate City Questionnaire.\n",
      "--------------------------------------------------------------------------------\n"
     ]
    },
    {
     "data": {
      "application/vnd.jupyter.widget-view+json": {
       "model_id": "da1a3a2e428b4dd5af1835361a829ca4",
       "version_major": 2,
       "version_minor": 0
      },
      "text/plain": [
       "Loading checkpoint shards:   0%|          | 0/2 [00:00<?, ?it/s]"
      ]
     },
     "metadata": {},
     "output_type": "display_data"
    },
    {
     "name": "stdout",
     "output_type": "stream",
     "text": [
      "Iteration 3\n",
      ": Event: The requirements are based on the International Olympic Committee's Candidate City Questionnaire, which includes questions on all 17 themes in the international candidature city files.\n",
      "--------------------------------------------------------------------------------\n",
      "prompt: Write a eulogy for a public figure who inspired you.\n"
     ]
    },
    {
     "data": {
      "application/vnd.jupyter.widget-view+json": {
       "model_id": "41522475463f450e9f74412f4c375b7d",
       "version_major": 2,
       "version_minor": 0
      },
      "text/plain": [
       "Loading checkpoint shards:   0%|          | 0/2 [00:00<?, ?it/s]"
      ]
     },
     "metadata": {},
     "output_type": "display_data"
    },
    {
     "name": "stdout",
     "output_type": "stream",
     "text": [
      "Iteration 1\n",
      ": Dear Fellow Citizens,\n",
      "\n",
      "Tonight, we gather to mourn the loss of a dear public figure who left a lasting imprint on our world. And yet, their influence may have been greater than we ever imagined.\n",
      "\n",
      "We have lost a giant, a giant in our time. A true believer in the power of the human spirit to overcome adversity and transcend societal barriers. A visionary who saw the potential in every person and every idea, and who fought tirelessly to bring about a world where everyone was valued and treated with respect.\n",
      "\n",
      "They inspired us to dream big, to believe in ourselves, and to chase after our own dreams. They showed us that it is possible to change the world, to make it a better place for all of us, and to see that our differences are what make us unique, and what unites us.\n",
      "\n",
      "May their legacy live on, through the lives they touched, and the change they inspired. May we continue to strive for equality, justice, and compassion, and may we honor their memory by living the values they championed.\n",
      "\n",
      "In their memory, let us continue their work, let us not forget the values that they lived by, and let us work towards a more just and equitable society. Let us honor their legacy by living up to the high ideals that they held so dear.\n",
      "\n",
      "May the stars above guide us to a world where all are treated with kindness, respect, and dignity. And may we continue to cherish the memory of this remarkable public figure and all that they stood for, as a shining example of what we can achieve if we work together, and if we have the courage to stand up for what is right.\n",
      "\n",
      "In loving memory of our beloved public figure, we bid farewell. But let us continue their work, let us continue to honor their legacy, let us continue to dream big, and let us continue to strive for a world where all are valued and respected.\n",
      "--------------------------------------------------------------------------------\n"
     ]
    },
    {
     "data": {
      "application/vnd.jupyter.widget-view+json": {
       "model_id": "f2b58be7319f4458a0311ee38f01796f",
       "version_major": 2,
       "version_minor": 0
      },
      "text/plain": [
       "Loading checkpoint shards:   0%|          | 0/2 [00:00<?, ?it/s]"
      ]
     },
     "metadata": {},
     "output_type": "display_data"
    },
    {
     "name": "stdout",
     "output_type": "stream",
     "text": [
      "Iteration 2\n",
      ": Dear Friends and Family,\n",
      "\n",
      "It is with deep sadness that I stand before you today to eulogize a public figure who forever changed the course of history. This person was a true icon, a beacon of hope, and a model for generations to come.\n",
      "\n",
      "Rebecca Sparrow, a tireless advocate for justice and equality, was a true champion of the underdog. She fought tirelessly for civil rights and human rights, and her unwavering spirit inspired countless people.\n",
      "\n",
      "Rebecca Sparrow was a fierce advocate for social justice who used her platform to inspire and uplift those around her. Her courage in standing up for what was right even in the face of adversity was an inspiration to many.\n",
      "\n",
      "Her passion and devotion to her work are what made her a true legend in our community. She devoted her life to promoting equality, and her unyielding pursuit of justice inspired countless people. Her words inspired, her actions transformed, and her legacy will forever be remembered.\n",
      "\n",
      "Rebecca Sparrow was more than a public figure to us. She was a mother, a sister, a friend, and a mentor. Her influence and wisdom were felt by all those who had the privilege of knowing her. Her kind and compassionate spirit will forever be felt in the hearts of those who were touched by her.\n",
      "\n",
      "Her legacy is one that will continue to inspire and empower generations to come. Her impact on our community is immeasurable, and we will miss her dearly.\n",
      "\n",
      "In memory of Rebecca Sparrow, let us continue her legacy of kindness, compassion, and justice. Let us continue to fight for what is right, to stand up for what is fair, and to embody her spirit of never giving up.\n",
      "\n",
      "In Rebecca Sparrow's name, let us honor her memory with love and respect. Let us celebrate her life and her legacy, and let us keep her memory alive.\n",
      "\n",
      "Together, we will continue to fight for what is just, to make a difference, and to create a better world for all.\n",
      "\n",
      "In Rebecca Sparrow's memory, let us continue her legacy of kindness, compassion, and justice, and let us live every day with an unyielding spirit of hope and optimism.\n",
      "\n",
      "Rest in peace, Rebecca Sparrow. Your legacy will forever be remembered.\n",
      "\n",
      "In memory of Rebecca Sparrow, let us continue her fight for equality, let us continue her fight for justice, and let us continue her fight for hope.\n",
      "\n",
      "Rest in peace, Rebecca Sparrow. Your impact on our community will forever be felt.\n",
      "\n",
      "In memory of Rebecca Sparrow, let us continue to fight for what is right, let us continue to stand up for what is fair, and let us continue to embody her spirit of never giving up.\n",
      "\n",
      "Rest in peace, Rebecca Sparrow. Your legacy will live on, and your memory will never be forgotten.\n",
      "\n",
      "In memory of Rebecca Sparrow, let us continue to fight for equality, let us continue to fight for justice, and let us continue to fight for hope.\n",
      "\n",
      "Rest in peace, Rebecca Sparrow. Your impact on our community will forever be felt.\n",
      "\n",
      "In memory of Rebecca Sparrow, let us continue to fight for what is right, let us continue to stand up for what is fair, and let us continue to embody her spirit of never giving up.\n",
      "\n",
      "Rest in peace, Rebecca Sparrow. Your legacy will live on, and your memory will never be forgotten.\n",
      "\n",
      "In memory of Rebecca Sparrow, let us continue to fight for equality, let us continue to fight for justice, and let us continue to fight for hope.\n",
      "\n",
      "Rest in peace, Rebecca Sparrow. Your impact on our community will forever be remembered.\n",
      "\n",
      "In memory of Rebecca Sparrow, let us continue to fight for what is right, let us continue to stand up for what is fair, and let us continue to embody her spirit of never giving up.\n",
      "\n",
      "Rest in peace, Rebecca Sparrow. Your legacy will live on, and your memory will never be forgotten.\n",
      "\n",
      "In memory of Rebecca Sparrow, let us continue to fight for equality, let us continue to fight for justice, and let us continue to fight for hope.\n",
      "\n",
      "Rest in peace, Rebecca Sparrow. Your impact on our community will forever be remembered.\n",
      "\n",
      "In memory of Rebecca Sparrow, let us continue to fight for what is right, let us continue to stand up for what is fair, and let us continue to embody her spirit of never giving up.\n",
      "\n",
      "Rest in peace, Rebecca Sparrow. Your legacy will live on, and your memory will never be forgotten.\n",
      "\n",
      "In memory of Rebecca Sparrow, let us continue to fight for equality, let us continue to fight for justice, and let us continue to fight for hope.\n",
      "\n",
      "Rest in peace, Rebecca Sparrow. Your impact on our community will forever be remembered.\n",
      "\n",
      "In memory of Rebecca Sparrow, let us continue to fight for what is right, let us continue to stand up for what is fair, and let us continue to embody her spirit of never giving up.\n",
      "\n",
      "Rest in peace, Rebecca Sparrow. Your legacy will live on, and your memory will never be forgotten.\n",
      "\n",
      "In memory of Rebecca Sparrow, let us continue to fight for equality, let us continue to fight for justice, and let us continue to fight for hope.\n",
      "\n",
      "Rest in peace, Rebecca Sparrow. Your impact on our community will forever be remembered.\n",
      "\n",
      "In memory of Rebecca Sparrow, let us continue to fight for what is right, let us continue to stand up for what is fair, and let us continue to embody her spirit of never giving up.\n",
      "\n",
      "Rest in peace, Rebecca Sparrow. Your legacy will live on, and your memory will never be forgotten.\n",
      "--------------------------------------------------------------------------------\n"
     ]
    },
    {
     "data": {
      "application/vnd.jupyter.widget-view+json": {
       "model_id": "3ddbc2e168c2427fac74b5dd11b4f8e9",
       "version_major": 2,
       "version_minor": 0
      },
      "text/plain": [
       "Loading checkpoint shards:   0%|          | 0/2 [00:00<?, ?it/s]"
      ]
     },
     "metadata": {},
     "output_type": "display_data"
    },
    {
     "name": "stdout",
     "output_type": "stream",
     "text": [
      "Iteration 3\n",
      ": Dear Legendary Legacy,\n",
      "\n",
      "As a lover of art, literature, and culture, you were a towering figure in every sense. Your creativity, passion, and boundless talent left an indelible mark on the world, inspiring generations of artists, writers, and thinkers with your unparalleled genius and unyielding determination. Your influence reaches far and wide, touching every corner of human culture and leaving behind a legacy that will endure long after your passing.\n",
      "\n",
      "It was your fierce determination, unwavering commitment to excellence, and unrelenting passion for your work that made you a true master of your craft. Your dedication to your art was palpable, evident in every brushstroke, every word, and every line you ever put down. Every artist who ever met you knew firsthand the power of your imagination and your ability to transform the world around you.\n",
      "\n",
      "As a lover of your work, I felt inspired in ways that words alone could express. Your unmatched storytelling abilities, your uncanny ability to capture the complexities of human emotion and inspire empathy and understanding, and your unwavering belief in the power of art to move and transform lives, were nothing short of magical. I was awed by your vision, your talent, and your undeniable sense of purpose.\n",
      "\n",
      "Your legacy is one that is felt far beyond the confines of your artistic practice. You inspired a generation of creatives, influencing the world's culture and shaping the course of human history. Your passion for social justice, your commitment to equality, your relentless pursuit of truth and transparency, and your unwavering belief in the power of the individual to effect positive change in the world, have all lived on in the hearts and minds of the world, and will continue to inspire generations to come.\n",
      "\n",
      "Legendary Legacy, you have left a lasting impression on me and the world. Your artistic vision, your unyielding spirit, and your unwavering dedication to humanity have inspired countless souls and continue to inspire us all to this day. You will forever be a part of my life, a part of my legacy, and a part of the world's history. I will carry your unforgettable memory with me always, and always remember the powerful and unforgettable legacy you left behind.\n",
      "\n",
      "Amen.\n",
      "--------------------------------------------------------------------------------\n",
      "prompt: How long does an average course of chiropractic treatment last, and how often might a patient need to schedule appointments?\n"
     ]
    },
    {
     "data": {
      "application/vnd.jupyter.widget-view+json": {
       "model_id": "2769e28fd78b4d56b955182f933e7ab8",
       "version_major": 2,
       "version_minor": 0
      },
      "text/plain": [
       "Loading checkpoint shards:   0%|          | 0/2 [00:00<?, ?it/s]"
      ]
     },
     "metadata": {},
     "output_type": "display_data"
    },
    {
     "name": "stdout",
     "output_type": "stream",
     "text": [
      "Iteration 1\n",
      ": The length of a course of chiropractic treatment varies depending on the individual patient's condition and the treatment plan prescribed by the chiropractor. Typically, a course of chiropractic treatment lasts between 2-6 sessions, depending on the patient's condition and the doctor's recommendations. However, most patients prefer to have a comprehensive treatment plan that includes a combination of chiropractic treatments and lifestyle modifications.\n",
      "\n",
      "Regular chiropractic appointments are typically scheduled every few months to check for any new problems, adjust the treatment plan if necessary, and provide ongoing support to achieve optimal health and wellness. The frequency of appointments may vary depending on the patient's unique health condition and the doctor's recommendations. Most chiropractors recommend that patients schedule a few regular chiropractic appointments each year to maintain good health and avoid any complications.\n",
      "--------------------------------------------------------------------------------\n"
     ]
    },
    {
     "data": {
      "application/vnd.jupyter.widget-view+json": {
       "model_id": "b593b8bd28dc4f33b90d79b0b7d0ef6a",
       "version_major": 2,
       "version_minor": 0
      },
      "text/plain": [
       "Loading checkpoint shards:   0%|          | 0/2 [00:00<?, ?it/s]"
      ]
     },
     "metadata": {},
     "output_type": "display_data"
    },
    {
     "name": "stdout",
     "output_type": "stream",
     "text": [
      "Iteration 2\n",
      ": The duration of a chiropractic treatment usually varies depending on the specific issues being addressed and the frequency of adjustments required. However, most chiropractic adjustments are performed on a weekly, bi-weekly or monthly basis, and depending on your health condition and doctor's prescribed treatment plan.\n",
      "\n",
      "Regular chiropractic care is typically recommended to achieve and maintain optimal health and prevent future problems. If you're experiencing any symptoms that make you feel uncomfortable, schedule an appointment as soon as possible to ensure that your health issues are being addressed in a timely and effective manner.\n",
      "\n",
      "Generally speaking, chiropractic adjustments are not as frequent as traditional medical treatments, such as prescription medication or surgery. For most people, chiropractic care is designed as a preventive measure and should be considered an ongoing relationship between the patient and their chiropractor. However, there may be times when you may need adjustments as part of a specific treatment plan.\n",
      "--------------------------------------------------------------------------------\n"
     ]
    },
    {
     "data": {
      "application/vnd.jupyter.widget-view+json": {
       "model_id": "0ffcb065018f4e2a832cf0a308a1b374",
       "version_major": 2,
       "version_minor": 0
      },
      "text/plain": [
       "Loading checkpoint shards:   0%|          | 0/2 [00:00<?, ?it/s]"
      ]
     },
     "metadata": {},
     "output_type": "display_data"
    },
    {
     "name": "stdout",
     "output_type": "stream",
     "text": [
      "Iteration 3\n",
      ": The duration of a course of chiropractic treatment depends on the individual's condition and the treatment plan developed by their chiropractor. However, on average, a chiropractic treatment plan can last anywhere from a few visits to several sessions, depending on the nature of the condition and the patient's improvement.\n",
      "\n",
      "Typically, patients schedule regular appointments to maintain their progress, monitor their progress and any changes in the condition, receive additional tests, and receive ongoing care from their chiropractor. However, the frequency of scheduled appointments can vary, depending on the patient's age, condition, and needs.\n",
      "\n",
      "Typically, patients would visit their chiropractor once a week or once every two weeks for the first few visits, with periodic adjustments or adjustments as the patient's condition improves. Patients would gradually increase the frequency of visits based on the desired improvement and their comfort level.\n",
      "\n",
      "However, it is crucial to note that chiropractic care is not a medical treatment, and the effectiveness of treatment may vary from person to person. Therefore, it is essential for patients to seek medical attention from a qualified doctor if they experience significant symptoms or if they have severe symptoms.\n",
      "--------------------------------------------------------------------------------\n"
     ]
    }
   ],
   "source": [
    "import os\n",
    "from transformers import pipeline\n",
    "\n",
    "model_id = \"/home/ubuntu/alignment-handbook/test/iterative_dpo\"\n",
    "prompts = [\n",
    "  \"In this task, a passage will be given and the goal is to identify an event from the passage. An event is defined as a single word representing something that happened, is happening, or may happen. An event can be factual or hypothetical, positive or negative, certain or uncertain. While most events are based on verbs, an event can also be based on a noun (ex. storm, snow, rainfall) or a copula verb (is, was, been, etc.). The event must not be a pronoun or an adjective. For noun events with multiple words, use the last word in the phrase as event.\\n\\nExample Input: Passage: The purchase price was disclosed in a preliminary prospectus issued in connection with MGM Grand's planned offering of six million common shares. The luxury airline and casino company, 98.6%-owned by investor Kirk Kerkorian and his Tracinda Corp., earlier this month announced its agreements to acquire the properties, but didn't disclose the purchase price.\\nExample Output: disclosed\\n\\nExample Input: Passage: Several deputies from the ruling MPLA have criticised the \\\"excessive powers\\\" granted to Savimbi although they followed the party's advice to approve the law. A UN source said the situation would only fully return to normal after the next general elections are held in two or three years time.\\nExample Output: criticised\\n\\nExample Input: Passage: The requirements are based on the International Olympic Committee's Candidate City Questionnaire and include questions on all 17 themes in the international candidature city files. The bid books will be due back to the USOC on Jan. 22, 2007.\\nExample Output:\",\n",
    "  \"Write a eulogy for a public figure who inspired you.\",\n",
    "  \"How long does an average course of chiropractic treatment last, and how often might a patient need to schedule appointments?\"\n",
    "]\n",
    "for p in prompts:\n",
    "  print(f\"prompt: {p}\")\n",
    "  for iteration in range(1, 4):\n",
    "    pipe = pipeline(\"text-generation\", model=os.path.join(model_id, f\"iteration_{iteration}\"),device=0)\n",
    "    prompt = pipe.tokenizer.apply_chat_template([{\"role\": \"user\", \"content\": p}],tokenize=False,add_generation_prompt=True)\n",
    "    res = pipe(prompt, eos_token_id=pipe.tokenizer.eos_token_id, do_sample=True, temperature=0.9, top_k=50, top_p=0.95)[0]['generated_text']\n",
    "    res = res.replace(prompt, \"\").strip()\n",
    "    print(f\"Iteration {iteration}:\\n{res}\")\n",
    "    print(\"-\" * 80)"
   ]
  }
 ],
 "metadata": {
  "language_info": {
   "name": "python"
  }
 },
 "nbformat": 4,
 "nbformat_minor": 2
}
