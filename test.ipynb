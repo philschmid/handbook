{
 "cells": [
  {
   "cell_type": "code",
   "execution_count": 2,
   "metadata": {},
   "outputs": [
    {
     "name": "stdout",
     "output_type": "stream",
     "text": [
      "prompt: What should I do if I do not receive a confirmation upon casting my ballot for the CICR election?\n",
      "Generate according to: All members of CICR are asked to vote.\n",
      "Voting will be conducted electronically through myAACR. You will need a myAACR login to vote. Due to a recent upgrade in the myAACR function, please view how to easily recover your AACR login password, here.\n",
      "Click on \"View All Activities\"\n",
      "Please remember to complete all steps to ensure that you have officially cast your ballot. You will receive a confirmation immediately upon casting your ballot. If you do not receive this confirmation, you will need to access the ballot again to ensure it is completed.\n",
      "If you have difficulties logging in or voting, please email cicr@aacr.org for assistance.\n",
      "The following two individuals are standing for election to the office of chairperson-elect of the Steering Committee of the Chemistry in Cancer Research (CICR) Working Group of the American Association for Cancer Research (AACR). The individual elected shall serve as chairperson-elect commencing at the AACR Annual Meeting 2019, until the following Annual Meeting after which that individual will assume the office of chairperson for one year, and past-chairperson for an additional year.\n",
      "Candidates' background and goals are listed on the election ballot.\n"
     ]
    },
    {
     "data": {
      "application/vnd.jupyter.widget-view+json": {
       "model_id": "c686f18cc2874e0f8a75c2a7efe96de4",
       "version_major": 2,
       "version_minor": 0
      },
      "text/plain": [
       "Loading checkpoint shards:   0%|          | 0/2 [00:00<?, ?it/s]"
      ]
     },
     "metadata": {},
     "output_type": "display_data"
    },
    {
     "name": "stdout",
     "output_type": "stream",
     "text": [
      "Iteration 1:\n",
      "1. Nomination by any member of the CICR Working Group of the AACR and seconded by a minimum of three other voting members, including the chairperson-elect.\n",
      "2. A formal discussion of nominees' qualifications and commitment to serving as chairperson-elect.\n",
      "3. A vote of the voting members.\n",
      "4. A written record of the results.\n",
      "\n",
      "The ballot for the CICR Working Group of the AACR chairperson-elect position closed on March 22nd, 2019. Voting for all three individuals will commence on April 8th, 2019, and will close on June 12th, 2019. Voting will be conducted electronically through myAACR.\n",
      "--------------------------------------------------------------------------------\n"
     ]
    },
    {
     "data": {
      "application/vnd.jupyter.widget-view+json": {
       "model_id": "5f2f8000b3214412a48312516a40b912",
       "version_major": 2,
       "version_minor": 0
      },
      "text/plain": [
       "Loading checkpoint shards:   0%|          | 0/2 [00:00<?, ?it/s]"
      ]
     },
     "metadata": {},
     "output_type": "display_data"
    },
    {
     "name": "stdout",
     "output_type": "stream",
     "text": [
      "Iteration 2:\n",
      "If a member does not receive a confirmation upon casting their ballot for the CICR election, you may need to view how to easily recover your AACR login password. Here's how:\n",
      "\n",
      "1. Go to myAACR on your computer or mobile device.\n",
      "2. Go to \"View All Activities\" and click on the tab that says \"Candidate Information\".\n",
      "3. Scroll down to the bottom of the candidate section and click on \"Edit Profile\".\n",
      "4. If your candidate does not appear on the \"View All Activities\" page, go back to the Login page (it's still here!). Click on the \"View All Activities\" button and you'll see a candidate you haven't seen before. Click on \"Edit\" to change the login details.\n",
      "5. Click on \"Create a new profile\".\n",
      "6. Fill out the details, including your AACR ID, email, and password, then click \"Create\" at the bottom of the page.\n",
      "7. Click on \"Forgot password\" to reset your password.\n",
      "8. Click on \"Reset password\" to enter the new password.\n",
      "9. Review your password and click \"Submit\".\n",
      "10. Log in to myAACR with your AACR ID and password.\n",
      "\n",
      "If you still need assistance, please contact cicr@aacr.org.\n",
      "--------------------------------------------------------------------------------\n"
     ]
    },
    {
     "data": {
      "application/vnd.jupyter.widget-view+json": {
       "model_id": "e59b3ea12db341d5ae7990eeb499abda",
       "version_major": 2,
       "version_minor": 0
      },
      "text/plain": [
       "Loading checkpoint shards:   0%|          | 0/2 [00:00<?, ?it/s]"
      ]
     },
     "metadata": {},
     "output_type": "display_data"
    },
    {
     "name": "stdout",
     "output_type": "stream",
     "text": [
      "Iteration 3:\n",
      "As per the announcement from the American Association for Cancer Research (AACR), voting is now open. To cast your ballot, follow the steps below:\n",
      "\n",
      "1. Visit the CICR website: go to https://cicr.aacr.org/\n",
      "\n",
      "2. Click on the \"All Members\" icon: this will take you to a webpage where you can register your myAACR login and continue with the voting process.\n",
      "\n",
      "3. Go to View All Activities: you will see \"View All Activities\" to your right. Click on this to access a webpage where you can access the \"My AACR\" section where you can edit or restore your login password if it has been lost. Click on \"View All Activities\"\n",
      "\n",
      "4. Click on \"View All Activities\"\n",
      "\n",
      "5. If you do not receive a confirmation message, please email cicr@aacr.org and ask to be added to the email list for notifications.\n",
      "\n",
      "6. If you have difficulties logging in or voting, please email cicr@aacr.org for assistance.\n",
      "\n",
      "Hope this helps! Don't forget to cast your vote.\n",
      "--------------------------------------------------------------------------------\n",
      "prompt: Write a eulogy for a public figure who inspired you.\n"
     ]
    },
    {
     "data": {
      "application/vnd.jupyter.widget-view+json": {
       "model_id": "75c423712a1c4a17af14a6f46774f355",
       "version_major": 2,
       "version_minor": 0
      },
      "text/plain": [
       "Loading checkpoint shards:   0%|          | 0/2 [00:00<?, ?it/s]"
      ]
     },
     "metadata": {},
     "output_type": "display_data"
    },
    {
     "name": "stdout",
     "output_type": "stream",
     "text": [
      "Iteration 1:\n",
      "Dear friends, fellow citizens, and loved ones,\n",
      "\n",
      "Today, we gather to mourn the passing of our beloved public figure, known and admired by all those who knew her, by all those who watched her lead us towards greater knowledge, progress, and enlightenment, and by all those whose lives she touched, inspiring and lifting them higher.\n",
      "\n",
      "Her name is Margaret Thatcher, and she inspired us all with her courage, determination, and wisdom. Her life was marked by resilience, steadfastness, and unwavering conviction, and her death marks a great loss not only to us who knew her but to all those who admired her for the qualities that made her a true icon for the free world.\n",
      "\n",
      "Margaret Thatcher was born in 1925, in Grantham, Lincolnshire, the daughter of a farmer and a shopkeeper, and grew up in a working-class family. Her passion for books and literature was evident from an early age, and she read at will, always with a sense of urgency and purpose. It was this dedication that would soon lead her to political life, where she began a journey towards the top.\n",
      "\n",
      "During World War II, Margaret Thatcher was a young woman serving in the British Army, but her bravery was noticed by her commanding officer, who suggested she apply for a seat at Oxford University. Her courage and natural talent earned her a place in St Hugh's College, where she studied for three years and then won a place at the University of Cambridge, where she earned a Ph.D.\n",
      "\n",
      "In the years to come, Margaret Thatcher became a political activist for the Conservative Party. Through her passionate convictions and tenacity, she eventually became the first woman elected Prime Minister in British history.\n",
      "\n",
      "At home, Margaret Thatcher's impact was equally significant. Through her political decisions, she created the foundations of a new, pro-freedom economic and foreign policy, opening up opportunities for businesses, allowing more people to gain education, and instilling in the public a sense of hope and opportunity.\n",
      "\n",
      "Margaret Thatcher's legacy lives on not just in her achievements but in her teachings on the importance of hard work, selflessness, and sacrifice. She was a mentor to many, her words of wisdom and encouragement inspiring generations to reach for higher goals.\n",
      "\n",
      "Margaret Thatcher's passing has brought a sense of loss and shock to many people, but let us remember her as a hero, a true inspiration, a beacon of hope, and a true champion of freedom and democracy, whose legacy will endure for generations.\n",
      "\n",
      "Thank you all for coming, and I would like to extend my deepest condolences to all her family, friends, and colleagues. May she rest in peace.\n",
      "--------------------------------------------------------------------------------\n"
     ]
    },
    {
     "data": {
      "application/vnd.jupyter.widget-view+json": {
       "model_id": "6ef7c5a70cc64aeea71c0d70c1d7c224",
       "version_major": 2,
       "version_minor": 0
      },
      "text/plain": [
       "Loading checkpoint shards:   0%|          | 0/2 [00:00<?, ?it/s]"
      ]
     },
     "metadata": {},
     "output_type": "display_data"
    },
    {
     "name": "stdout",
     "output_type": "stream",
     "text": [
      "Iteration 2:\n",
      "[Less than a week before the death of a public figure, I had the privilege of witnessing them speak at a public event. The speaker was a man who had become a beloved and cherished figure in the hearts of many. As a poet, it was a humbling experience to witness the way he moved and spoke, to feel how each word he spoke spoke of a life that was rich, complex, and meaningful.\n",
      "\n",
      "The public figure was a former U.S. President, and had won two Nobel Peace Prizes for his work in promoting reconciliation between nations. For more than two decades he had been a catalyst in many of the world’s most pressing issues, including the Iraq War, the human rights abuses in Syria, and the ongoing civil war in the Democratic Republic of Congo. This was more than just his achievements - this was his story, told with courage and grace, and one that inspired so many.\n",
      "\n",
      "As he spoke, I realized that he had changed many lives. He had taught us about human rights, about the importance of justice, and about the power of unity, both amongst people and in relation to the larger world around us. As he spoke, I could feel my soul being enriched by the things he had said and done, and by the way he had lived his life. His words spoke to my soul, to my heart, and to my hopes and dreams.\n",
      "\n",
      "As the time for his speech drew nearer, I was struck by how much he would have to share about his life and his work. His mind was quick, his words were sharp, and he spoke with a deep sense of conviction that made me hopeful that he could indeed inspire many. I had witnessed him speak at many events over the years, and they all spoke to me in a way that no words ever could.\n",
      "\n",
      "So, here I am, on the eve of his passing, writing a eulogy for a public figure who inspired so many. His legacy, I hope, will live on through the countless lives he has touched and the countless moments of joy and learning he has brought to all of us. We can learn from him, and from his stories. We can find inspiration in his words, in his actions, and in the way he lived his life.\n",
      "\n",
      "May he rest in peace. May his memory live on. May those of us who knew him and loved him find new ways to honor his legacy and continue to learn from the lessons he has taught us. May we all find ways to be the very best that we can be, to love more, to work harder, and to pursue lives that are worth living. He will live on in our hearts and minds, and we can honor him by living in a way that honors his memory. We will carry his legacy forward, and his wisdom will continue to guide us in our own paths.\n",
      "\n",
      "He inspired us. He will continue to inspire us. And for this, we honor him.\n",
      "\n",
      "Rest in peace, Mr. President.\n",
      "--------------------------------------------------------------------------------\n"
     ]
    },
    {
     "data": {
      "application/vnd.jupyter.widget-view+json": {
       "model_id": "c499ed27ee3c4fbdbd5221226c213977",
       "version_major": 2,
       "version_minor": 0
      },
      "text/plain": [
       "Loading checkpoint shards:   0%|          | 0/2 [00:00<?, ?it/s]"
      ]
     },
     "metadata": {},
     "output_type": "display_data"
    },
    {
     "name": "stdout",
     "output_type": "stream",
     "text": [
      "Iteration 3:\n",
      "To: A Public Figure That Made a Lasting Impact\n",
      "\n",
      "My dear friend, I'm grateful for the ways you have touched the lives of so many others. Your unwavering spirit, your compassionate demeanor, and your unwavering convictions have always brought good to the world. Whether through your words or your actions, you were a shining example of what it means to truly lead and inspire.\n",
      "\n",
      "I met you at a young age and knew the impact you had on my life ever since. From the simple fact that you lived your words, to the way you stood up for what was right, to the wisdom of listening to people, you have been a true light in my life. I recall one time when you stood up for me and encouraged me to take up poetry. I'm so grateful to you for being there for me when no one else was. And even when I was going through a dark time, you stood by me, always asking how I was doing and reminding me of the beauty in everyday life.\n",
      "\n",
      "You inspired me in a way no amount of words could do. As I stood to say my respectful farewell to your legacy, I was filled with a sense of pride, gratitude, and admiration. I know that even in death, you continue to inspire and uplift. As you continue to guide us through our lives, I hope we can all remember how you lived your words, and how you lived your life.\n",
      "\n",
      "As we now say farewell, we can only hope that you continue to live your life with your unwavering convictions. You did, and continue to do, so much good, and it fills me with joy to know I have been blessed with your love and your influence. Thank you for inspiring me, and thank you for sharing your story with me.\n",
      "\n",
      "Rest in Peace, My Beloved Leader, and may your spirit continue to inspire others to live their lives for a better world.\n",
      "\n",
      "Love,\n",
      "\n",
      "Your Beloved Friend.\n",
      "--------------------------------------------------------------------------------\n",
      "prompt: How long does an average course of chiropractic treatment last, and how often might a patient need to schedule appointments?\n"
     ]
    },
    {
     "data": {
      "application/vnd.jupyter.widget-view+json": {
       "model_id": "be426fdb1377495bb3ef9897fb1c7736",
       "version_major": 2,
       "version_minor": 0
      },
      "text/plain": [
       "Loading checkpoint shards:   0%|          | 0/2 [00:00<?, ?it/s]"
      ]
     },
     "metadata": {},
     "output_type": "display_data"
    },
    {
     "name": "stdout",
     "output_type": "stream",
     "text": [
      "Iteration 1:\n",
      "A typical chiropractic treatment lasts anywhere from a few sessions to several weeks or even months, depending on the severity and frequency of the patient's condition. Initially, it is recommended to attend one chiropractic session a week for the first few visits to ensure a full range of motion and proper alignment for proper healing. Over time, this frequency may vary, and the number of sessions may decrease as the patient's improvement in condition becomes more evident. \n",
      "\n",
      "Regarding frequency of visits, patients are advised to maintain consistent and regular visits. In general, two sessions per week, Monday and Thursday or Wednesday and Saturday, should be sufficient. However, the frequency may need to be adjusted if there are any factors that affect the patient's progress. \n",
      "\n",
      "Once the patient has attained optimal health, they may consider reducing their frequency. The frequency should be determined by the patient and their chiropractor. A patient may need to reduce frequency as needed, and it's best to discuss this with their chiropractor at the start. \n",
      "\n",
      "Patients are generally encouraged to attend their appointments regularly. This is to provide a constant support system for their health, and it can also help to ensure that they are following their treatment plan and that the chiropractor is aware of any changes in the patient's health that may affect their results. Regular appointments, however, are not required. \n",
      "\n",
      "In some cases, chiropractic treatment may be recommended for a shorter period of time, with a shorter frequency of sessions. The frequency may need to be reduced as the patient progresses further. The frequency can also be reduced to once a month, depending on the situation. \n",
      "\n",
      "Regardless of how often a patient attends their chiropractic treatment sessions, it is essential that the patient adheres to their treatment plan, following the recommended exercises and stretches. It is recommended that patients consult with their chiropractor before making any major lifestyle changes, or before making any lifestyle changes.\n",
      "--------------------------------------------------------------------------------\n"
     ]
    },
    {
     "data": {
      "application/vnd.jupyter.widget-view+json": {
       "model_id": "81283ec76ea14c41843c58d5cece7037",
       "version_major": 2,
       "version_minor": 0
      },
      "text/plain": [
       "Loading checkpoint shards:   0%|          | 0/2 [00:00<?, ?it/s]"
      ]
     },
     "metadata": {},
     "output_type": "display_data"
    },
    {
     "name": "stdout",
     "output_type": "stream",
     "text": [
      "Iteration 2:\n",
      "Chiropractic treatment usually lasts for several months, depending on the individual case and patient's goals. Some patients may require treatment every week or two, while others may require treatment a few times a month or even once a quarter. Chiropractic care typically comes with an initial consultation and set of appointments, although it may involve weekly or semi-weekly sessions. It's not unusual for patients to visit their chiropractor three times a week, but this may depend on the individual. Once the chiropractic adjustments have been made, patients generally maintain a maintenance regimen of chiropractic care, which may include additional spinal adjustments and adjustments to the spine's motion system to maintain a healthy, stable spine. At times, it might be recommended to have additional care to address more serious spinal problems. Some common health concerns that may require chiropractic treatment include back pain, neck pain, shoulder pain, headaches, and autoimmune disorders such as chronic fatigue syndrome (CFS) or fibromyalgia. Additionally, some individuals with chronic conditions such as HIV/AIDS may need to undergo regular adjustments to help maintain their health and reduce the risk of developing new diseases.\n",
      "--------------------------------------------------------------------------------\n"
     ]
    },
    {
     "data": {
      "application/vnd.jupyter.widget-view+json": {
       "model_id": "44313230894144f793744a5aa7a65431",
       "version_major": 2,
       "version_minor": 0
      },
      "text/plain": [
       "Loading checkpoint shards:   0%|          | 0/2 [00:00<?, ?it/s]"
      ]
     },
     "metadata": {},
     "output_type": "display_data"
    },
    {
     "name": "stdout",
     "output_type": "stream",
     "text": [
      "Iteration 3:\n",
      "The average time span of a course of chiropractic treatment may vary depending on factors such as patient health, symptoms, and progression of the condition. However, the duration of a course of chiropractic treatment depends on several factors, including the severity of the condition, individual factors like the patient's overall health, and the practitioner's expertise. Generally, most courses of chiropractic treatment last anywhere from three to six months or up to six to 18 months, which can vary from patient to patient, depending on the severity and complexity of the condition. A patient might need to schedule appointments at least a few times a week to ensure their condition progresses at the optimum rate. Based on the information provided in the passage, we can assume that an average course of chiropractic treatment lasts up to six months, with frequent and regular appointments.\n",
      "--------------------------------------------------------------------------------\n"
     ]
    }
   ],
   "source": [
    "import os\n",
    "from transformers import pipeline\n",
    "\n",
    "model_id = \"/home/ubuntu/alignment-handbook/test/iterative_dpo\"\n",
    "prompts = [\n",
    "  \"What should I do if I do not receive a confirmation upon casting my ballot for the CICR election?\\nGenerate according to: All members of CICR are asked to vote.\\nVoting will be conducted electronically through myAACR. You will need a myAACR login to vote. Due to a recent upgrade in the myAACR function, please view how to easily recover your AACR login password, here.\\nClick on \\\"View All Activities\\\"\\nPlease remember to complete all steps to ensure that you have officially cast your ballot. You will receive a confirmation immediately upon casting your ballot. If you do not receive this confirmation, you will need to access the ballot again to ensure it is completed.\\nIf you have difficulties logging in or voting, please email cicr@aacr.org for assistance.\\nThe following two individuals are standing for election to the office of chairperson-elect of the Steering Committee of the Chemistry in Cancer Research (CICR) Working Group of the American Association for Cancer Research (AACR). The individual elected shall serve as chairperson-elect commencing at the AACR Annual Meeting 2019, until the following Annual Meeting after which that individual will assume the office of chairperson for one year, and past-chairperson for an additional year.\\nCandidates' background and goals are listed on the election ballot.\",\n",
    "  \"Write a eulogy for a public figure who inspired you.\",\n",
    "  \"How long does an average course of chiropractic treatment last, and how often might a patient need to schedule appointments?\"\n",
    "]\n",
    "for p in prompts:\n",
    "  print(f\"prompt: {p}\")\n",
    "  for iteration in range(1, 4):\n",
    "    pipe = pipeline(\"text-generation\", model=os.path.join(model_id, f\"iteration_{iteration}\"),device=0)\n",
    "    prompt = pipe.tokenizer.apply_chat_template([{\"role\": \"user\", \"content\": p}],tokenize=False,add_generation_prompt=True)\n",
    "    res = pipe(prompt, eos_token_id=pipe.tokenizer.eos_token_id, do_sample=True, temperature=0.9, top_k=50, top_p=0.95)[0]['generated_text']\n",
    "    res = res.replace(prompt, \"\").strip()\n",
    "    print(f\"Iteration {iteration}:\\n{res}\")\n",
    "    print(\"-\" * 80)"
   ]
  },
  {
   "cell_type": "code",
   "execution_count": null,
   "metadata": {},
   "outputs": [],
   "source": []
  }
 ],
 "metadata": {
  "language_info": {
   "name": "python"
  }
 },
 "nbformat": 4,
 "nbformat_minor": 2
}
